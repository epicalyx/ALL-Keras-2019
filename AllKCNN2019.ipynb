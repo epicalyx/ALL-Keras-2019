{
  "nbformat": 4,
  "nbformat_minor": 0,
  "metadata": {
    "colab": {
      "name": "AllKCNN2019.ipynb",
      "provenance": [],
      "collapsed_sections": []
    },
    "kernelspec": {
      "name": "python3",
      "display_name": "Python 3"
    },
    "accelerator": "GPU"
  },
  "cells": [
    {
      "cell_type": "markdown",
      "metadata": {
        "id": "8nsx2WMTeKoc",
        "colab_type": "text"
      },
      "source": [
        "\n",
        "# Introduction\n",
        "\n",
        "### - This notebook explores a novel convolutional network architechture as discussed in the following research paper to build a classification system for better assistance in diagonosing Acute Lymphoblastic Leukemia in blood cells.\n",
        "**[Research Paper](http://www.ijcte.org/vol10/1198-H0012.pdf)**\n",
        "\n",
        "\n",
        "### - To gain access to the dataset, please visit [here](https://homes.di.unimi.it/scotti/all/#download) and to contribute back to the project, [here](https://homes.di.unimi.it/scotti/all/results.php)\n",
        "\n",
        "* Here, ALL_IDB2 version of the dataset has been used\n",
        "\n",
        "* This dataset is completely balanced with equal number of samples in both the classes.\n",
        "\n",
        "\n",
        "### - Data augmentation ensures that data is large enough and model extracts features efficiently without overfitting and therefore we have analysed the following types of data augmentation techniques in this notebook\n",
        "* Techniques used in the research paper discussing the following parameters:\n",
        "\n",
        "   1. Grayscaling of image\n",
        "   2. Horizontal reflection\n",
        "   3. Vertical reflection\n",
        "   4. Gaussian Blurring\n",
        "   5. Histogram Equalization\n",
        "   6. Rotation\n",
        "   7. Translation\n",
        "   8. Shearing\n",
        "   \n",
        "Only training data was augmented. The training dataset contains upto 1170 images after augmentation. The test set has 130 images(10% of the whole dataset)   \n",
        "\n",
        "\n",
        "\n",
        "\n",
        "### - The results of our present analysis is:\n",
        "\n",
        "| Data Augmentation    | Accuracy   | Precision   | Recall   |  ROC |\n",
        "|---|---|---|---|--|\n",
        "| Used in paper   | 91.5%  | 0.96  | 0.85  | 0.98  |\n",
        "\n",
        "\n",
        "\n",
        "\n",
        "**This result has been recorded for maximum number of epochs that model could be trained for without overfitting**\n",
        "\n",
        "**The model has then been quantized so as to ease its deployment on edge devices**\n",
        "\n",
        "\n",
        "\n",
        "\n",
        "\n",
        "### Below is the detailed code implementation of this research paper "
      ]
    },
    {
      "cell_type": "markdown",
      "metadata": {
        "id": "AfZJS4lHhUXE",
        "colab_type": "text"
      },
      "source": [
        "## **Loading requires packages**"
      ]
    },
    {
      "cell_type": "code",
      "metadata": {
        "id": "CimI3AcDR3kl",
        "colab_type": "code",
        "outputId": "379b0512-aefe-43e2-a233-0c16477ebf6a",
        "colab": {
          "base_uri": "https://localhost:8080/",
          "height": 218
        }
      },
      "source": [
        "!pip install keras_metrics"
      ],
      "execution_count": 0,
      "outputs": [
        {
          "output_type": "stream",
          "text": [
            "Collecting keras_metrics\n",
            "  Downloading https://files.pythonhosted.org/packages/32/c9/a87420da8e73de944e63a8e9cdcfb1f03ca31a7c4cdcdbd45d2cdf13275a/keras_metrics-1.1.0-py2.py3-none-any.whl\n",
            "Requirement already satisfied: Keras>=2.1.5 in /usr/local/lib/python3.6/dist-packages (from keras_metrics) (2.2.5)\n",
            "Requirement already satisfied: keras-preprocessing>=1.1.0 in /usr/local/lib/python3.6/dist-packages (from Keras>=2.1.5->keras_metrics) (1.1.0)\n",
            "Requirement already satisfied: h5py in /usr/local/lib/python3.6/dist-packages (from Keras>=2.1.5->keras_metrics) (2.8.0)\n",
            "Requirement already satisfied: six>=1.9.0 in /usr/local/lib/python3.6/dist-packages (from Keras>=2.1.5->keras_metrics) (1.12.0)\n",
            "Requirement already satisfied: numpy>=1.9.1 in /usr/local/lib/python3.6/dist-packages (from Keras>=2.1.5->keras_metrics) (1.18.2)\n",
            "Requirement already satisfied: keras-applications>=1.0.8 in /usr/local/lib/python3.6/dist-packages (from Keras>=2.1.5->keras_metrics) (1.0.8)\n",
            "Requirement already satisfied: scipy>=0.14 in /usr/local/lib/python3.6/dist-packages (from Keras>=2.1.5->keras_metrics) (1.4.1)\n",
            "Requirement already satisfied: pyyaml in /usr/local/lib/python3.6/dist-packages (from Keras>=2.1.5->keras_metrics) (3.13)\n",
            "Installing collected packages: keras-metrics\n",
            "Successfully installed keras-metrics-1.1.0\n"
          ],
          "name": "stdout"
        }
      ]
    },
    {
      "cell_type": "code",
      "metadata": {
        "id": "vQ8BE0xmnLD6",
        "colab_type": "code",
        "outputId": "b34d1e31-de06-4b67-d2b4-5c024fd024c5",
        "colab": {
          "base_uri": "https://localhost:8080/",
          "height": 79
        }
      },
      "source": [
        "from pathlib import Path\n",
        "import glob\n",
        "import random\n",
        "import os\n",
        "import cv2\n",
        "from numpy.random import seed\n",
        "import pandas as pd\n",
        "import numpy as np\n",
        "from sklearn.utils import shuffle\n",
        "from sklearn.model_selection import train_test_split\n",
        "from scipy import ndimage\n",
        "from skimage import exposure\n",
        "import skimage\n",
        "from skimage import io\n",
        "from skimage import transform as tm\n",
        "import seaborn as sns\n",
        "import tensorflow as tf\n",
        "from google.colab import drive\n",
        "import tensorflow.keras\n",
        "from keras.utils import np_utils\n",
        "from keras.models import Model,Sequential,model_from_json\n",
        "from keras.layers import Dense,Flatten,Activation\n",
        "from keras.callbacks import ModelCheckpoint, EarlyStopping\n",
        "from keras.preprocessing.image import ImageDataGenerator\n",
        "from keras.layers import Activation, Convolution2D, Dropout, Conv2D\n",
        "from keras.layers import AveragePooling2D, BatchNormalization\n",
        "from keras.layers import GlobalAveragePooling2D\n",
        "from keras.layers import Input,GaussianNoise\n",
        "from keras.layers import MaxPooling2D\n",
        "from keras.layers import SeparableConv2D\n",
        "from keras import layers\n",
        "from keras.regularizers import l2\n",
        "import keras_metrics\n",
        "import matplotlib.pyplot as plt\n",
        "from keras.optimizers import Adam,RMSprop,SGD\n",
        "from sklearn.metrics import confusion_matrix,precision_score,recall_score\n",
        "from sklearn.metrics import roc_auc_score\n",
        "from keras import backend as K\n",
        "%matplotlib inline"
      ],
      "execution_count": 0,
      "outputs": [
        {
          "output_type": "display_data",
          "data": {
            "text/html": [
              "<p style=\"color: red;\">\n",
              "The default version of TensorFlow in Colab will switch to TensorFlow 2.x on the 27th of March, 2020.<br>\n",
              "We recommend you <a href=\"https://www.tensorflow.org/guide/migrate\" target=\"_blank\">upgrade</a> now\n",
              "or ensure your notebook will continue to use TensorFlow 1.x via the <code>%tensorflow_version 1.x</code> magic:\n",
              "<a href=\"https://colab.research.google.com/notebooks/tensorflow_version.ipynb\" target=\"_blank\">more info</a>.</p>\n"
            ],
            "text/plain": [
              "<IPython.core.display.HTML object>"
            ]
          },
          "metadata": {
            "tags": []
          }
        },
        {
          "output_type": "stream",
          "text": [
            "Using TensorFlow backend.\n"
          ],
          "name": "stderr"
        }
      ]
    },
    {
      "cell_type": "code",
      "metadata": {
        "id": "QKP9GmW2I7wt",
        "colab_type": "code",
        "outputId": "71d1776a-1cc7-4407-9228-215d2582df48",
        "colab": {
          "base_uri": "https://localhost:8080/",
          "height": 50
        }
      },
      "source": [
        "print(tensorflow.keras.__version__)\n",
        "print(tf.__version__)"
      ],
      "execution_count": 0,
      "outputs": [
        {
          "output_type": "stream",
          "text": [
            "2.2.5\n",
            "1.15.0\n"
          ],
          "name": "stdout"
        }
      ]
    },
    {
      "cell_type": "code",
      "metadata": {
        "id": "tH2z2eQB6ZpX",
        "colab_type": "code",
        "colab": {}
      },
      "source": [
        "# for consistemt results across multiple executions\n",
        "seed(3)\n",
        "tf.random.set_seed(3)"
      ],
      "execution_count": 0,
      "outputs": []
    },
    {
      "cell_type": "markdown",
      "metadata": {
        "id": "2sJ5j1oTk_vg",
        "colab_type": "text"
      },
      "source": [
        "## **Mount your Google Drive**\n",
        "\n",
        " \n",
        "\n",
        "##### Upload the **ALL-Keras-2019** directory from your cloned repo to the root of your Google Drive. Use the following commands and follow the provided steps to mount your Google Drive.\n"
      ]
    },
    {
      "cell_type": "code",
      "metadata": {
        "id": "Ta29xTTR9Ih4",
        "colab_type": "code",
        "outputId": "42d2136b-c89a-4240-ebed-3d3efab64ffc",
        "colab": {
          "base_uri": "https://localhost:8080/",
          "height": 121
        }
      },
      "source": [
        "root_dir = \"/content/drive/My Drive/ALL-Keras-2019/\"\n",
        "drive.mount('/content/gdrive',force_remount=True)"
      ],
      "execution_count": 0,
      "outputs": [
        {
          "output_type": "stream",
          "text": [
            "Go to this URL in a browser: ###\n",
            "\n",
            "Enter your authorization code:\n",
            "###\n",
            "Mounted at /content/gdrive\n"
          ],
          "name": "stdout"
        }
      ]
    },
    {
      "cell_type": "markdown",
      "metadata": {
        "id": "XHsmyUQ_vH-s",
        "colab_type": "text"
      },
      "source": [
        "#### **You will notice the data folder in the Model directory, Model/Data, inside you have Train,Test and Complete.**\n",
        "\n",
        "#### **You can place all the images inside the *Complete* folder. We will split them into training and test set below**\n",
        "\n",
        "\n"
      ]
    },
    {
      "cell_type": "code",
      "metadata": {
        "id": "DJwo22WNpQjI",
        "colab_type": "code",
        "outputId": "33c98599-dc24-4808-bc26-40c943da6188",
        "colab": {
          "base_uri": "https://localhost:8080/",
          "height": 195
        }
      },
      "source": [
        "data_dir = 'Model/Data/Complete'\n",
        "dataset = Path(root_dir + data_dir)\n",
        "images= dataset.glob(\"*.tif\")\n",
        "data = []\n",
        "\n",
        "for img in images:\n",
        "  name, ext = os.path.splitext(os.path.basename(img))\n",
        "  if name[-1]=='1':\n",
        "    data.append((img,1))\n",
        "  elif name[-1]=='0':\n",
        "    data.append((img,0))\n",
        "    \n",
        "data_frame = pd.DataFrame(data,columns=['image','label'],index = None)\n",
        "data_frame = data_frame.sample(frac=1.).reset_index(drop=True)\n",
        "data_frame.tail()"
      ],
      "execution_count": 0,
      "outputs": [
        {
          "output_type": "execute_result",
          "data": {
            "text/html": [
              "<div>\n",
              "<style scoped>\n",
              "    .dataframe tbody tr th:only-of-type {\n",
              "        vertical-align: middle;\n",
              "    }\n",
              "\n",
              "    .dataframe tbody tr th {\n",
              "        vertical-align: top;\n",
              "    }\n",
              "\n",
              "    .dataframe thead th {\n",
              "        text-align: right;\n",
              "    }\n",
              "</style>\n",
              "<table border=\"1\" class=\"dataframe\">\n",
              "  <thead>\n",
              "    <tr style=\"text-align: right;\">\n",
              "      <th></th>\n",
              "      <th>image</th>\n",
              "      <th>label</th>\n",
              "    </tr>\n",
              "  </thead>\n",
              "  <tbody>\n",
              "    <tr>\n",
              "      <th>255</th>\n",
              "      <td>gdrive/My Drive/ALL_IDB2/img/Im022_1.tif</td>\n",
              "      <td>1</td>\n",
              "    </tr>\n",
              "    <tr>\n",
              "      <th>256</th>\n",
              "      <td>gdrive/My Drive/ALL_IDB2/img/Im257_0.tif</td>\n",
              "      <td>0</td>\n",
              "    </tr>\n",
              "    <tr>\n",
              "      <th>257</th>\n",
              "      <td>gdrive/My Drive/ALL_IDB2/img/Im136_0.tif</td>\n",
              "      <td>0</td>\n",
              "    </tr>\n",
              "    <tr>\n",
              "      <th>258</th>\n",
              "      <td>gdrive/My Drive/ALL_IDB2/img/Im255_0.tif</td>\n",
              "      <td>0</td>\n",
              "    </tr>\n",
              "    <tr>\n",
              "      <th>259</th>\n",
              "      <td>gdrive/My Drive/ALL_IDB2/img/Im153_0.tif</td>\n",
              "      <td>0</td>\n",
              "    </tr>\n",
              "  </tbody>\n",
              "</table>\n",
              "</div>"
            ],
            "text/plain": [
              "                                        image  label\n",
              "255  gdrive/My Drive/ALL_IDB2/img/Im022_1.tif      1\n",
              "256  gdrive/My Drive/ALL_IDB2/img/Im257_0.tif      0\n",
              "257  gdrive/My Drive/ALL_IDB2/img/Im136_0.tif      0\n",
              "258  gdrive/My Drive/ALL_IDB2/img/Im255_0.tif      0\n",
              "259  gdrive/My Drive/ALL_IDB2/img/Im153_0.tif      0"
            ]
          },
          "metadata": {
            "tags": []
          },
          "execution_count": 6
        }
      ]
    },
    {
      "cell_type": "code",
      "metadata": {
        "id": "BsDVRHjJnzb6",
        "colab_type": "code",
        "colab": {}
      },
      "source": [
        "#  Splitting training and test data; we will not be augmenting test data\n",
        "train = pd.DataFrame()\n",
        "test = pd.DataFrame()\n",
        "\n",
        "train = data_frame[:130]\n",
        "test = data_frame[130:]"
      ],
      "execution_count": 0,
      "outputs": []
    },
    {
      "cell_type": "markdown",
      "metadata": {
        "id": "zewhaj6Ul0Y_",
        "colab_type": "text"
      },
      "source": [
        "## **Data Exploration and Augmentation as presented in the paper**\n",
        "\n",
        "\n",
        "### 8 augmentation techniques have been used here\n",
        "1. Grayscaling of image\n",
        "2. Horizontal reflection \n",
        "3. Vertical reflection\n",
        "4. Gaussian Blurring \n",
        "5. Histogram Equalization\n",
        "6. Rotation\n",
        "7. Translation\n",
        "8. Shearing"
      ]
    },
    {
      "cell_type": "code",
      "metadata": {
        "id": "f71MR6OdWyJO",
        "colab_type": "code",
        "colab": {}
      },
      "source": [
        "# histogram equalization function\n",
        "def hist(img):\n",
        "  img_to_yuv = cv2.cvtColor(img,cv2.COLOR_BGR2YUV)\n",
        "  img_to_yuv[:,:,0] = cv2.equalizeHist(img_to_yuv[:,:,0])\n",
        "  hist_equalization_result = cv2.cvtColor(img_to_yuv, cv2.COLOR_YUV2BGR)\n",
        "  return hist_equalization_result\n",
        " "
      ],
      "execution_count": 0,
      "outputs": []
    },
    {
      "cell_type": "code",
      "metadata": {
        "id": "81rPbbtegU2h",
        "colab_type": "code",
        "colab": {}
      },
      "source": [
        "# function to perform rotation on an image\n",
        "def rotation(img):\n",
        "  rows,cols = img.shape[0],img.shape[1]\n",
        "  randDeg = random.randint(-180, 180)\n",
        "  matrix = cv2.getRotationMatrix2D((cols/2, rows/2), randDeg, 0.70)\n",
        "  rotated = cv2.warpAffine(img, matrix, (rows, cols), borderMode=cv2.BORDER_CONSTANT,\n",
        "                                     borderValue=(144, 159, 162))\n",
        "  return rotated     "
      ],
      "execution_count": 0,
      "outputs": []
    },
    {
      "cell_type": "code",
      "metadata": {
        "id": "Urz26j6qZJFG",
        "colab_type": "code",
        "colab": {}
      },
      "source": [
        "# function to perform shearing of an image\n",
        "def shear(img):\n",
        "  # Create Afine transform\n",
        "  afine_tf = tm.AffineTransform(shear=0.5)\n",
        "  # Apply transform to image data\n",
        "  modified = tm.warp(img, inverse_map=afine_tf)\n",
        "  return modified"
      ],
      "execution_count": 0,
      "outputs": []
    },
    {
      "cell_type": "code",
      "metadata": {
        "id": "sYS6DhKxKrvJ",
        "colab_type": "code",
        "colab": {}
      },
      "source": [
        "def aug_method(dataframe,dim,method):\n",
        "  if method == 'paper':\n",
        "    n = len(dataframe)\n",
        "    data = np.zeros((n*9,dim,dim,3),dtype = np.float32)\n",
        "    labels = np.zeros((n*9,2),dtype = np.float32)\n",
        "    count = 0\n",
        "\n",
        "    for j in range(0,n):\n",
        "      img_name = dataframe.iloc[j]['image']\n",
        "      label = dataframe.iloc[j]['label']\n",
        "\n",
        "      encoded_label = np_utils.to_categorical(label, num_classes=2)\n",
        "\n",
        "      img = cv2.imread(str(img_name))\n",
        "      img = cv2.resize(img, (dim,dim))\n",
        "\n",
        "      if img.shape[2]==1:\n",
        "        img = np.dstack([img, img, img])\n",
        "\n",
        "      orig_img = img.astype(np.float32)/255.\n",
        "      data[count] = orig_img\n",
        "      labels[count] = encoded_label\n",
        "      \n",
        "      aug_img1 = cv2.cvtColor(img, cv2.COLOR_BGR2GRAY)\n",
        "      aug_img2 = cv2.flip(img, 0) \n",
        "      aug_img3 = cv2.flip(img,1)\n",
        "      aug_img4 = ndimage.gaussian_filter(img, sigma= 5.11)\n",
        "      aug_img5 = hist(img)\n",
        "      aug_img6 = rotation(img)\n",
        "      aug_img7 = cv2.warpAffine(img, np.float32([[1, 0, 84], [0, 1, 56]]), (img.shape[0], img.shape[1]),\n",
        "                                  borderMode=cv2.BORDER_CONSTANT, borderValue=(144, 159, 162))\n",
        "      aug_img8 = shear(img)\n",
        "      aug_img1 = np.dstack([aug_img1, aug_img1, aug_img1])\n",
        "\n",
        "\n",
        "      aug_img1 = aug_img1.astype(np.float32)/255.                 \n",
        "      aug_img2 = aug_img2.astype(np.float32)/255.\n",
        "      aug_img3 = aug_img3.astype(np.float32)/255. \n",
        "      aug_img4 = aug_img4.astype(np.float32)/255.\n",
        "      aug_img5 = aug_img5.astype(np.float32)/255.\n",
        "      aug_img6 = aug_img6.astype(np.float32)/255.\n",
        "      aug_img7 = aug_img7.astype(np.float32)/255.\n",
        "      aug_img8 = aug_img8.astype(np.float32)/255.\n",
        "\n",
        "      data[count+1] = aug_img1\n",
        "      labels[count+1] = encoded_label\n",
        "      data[count+2] = aug_img2\n",
        "      labels[count+2] = encoded_label\n",
        "      data[count+3] = aug_img3\n",
        "      labels[count+3] = encoded_label\n",
        "      data[count+4] = aug_img4\n",
        "      labels[count+4] = encoded_label\n",
        "      data[count+5] = aug_img5\n",
        "      labels[count+5] = encoded_label\n",
        "      data[count+6] = aug_img5\n",
        "      labels[count+6] = encoded_label\n",
        "      data[count+7] = aug_img5\n",
        "      labels[count+7] = encoded_label\n",
        "      data[count+8] = aug_img5\n",
        "      labels[count+8] = encoded_label\n",
        "\n",
        "      count +=9\n",
        "      \n",
        "  elif method == 'keras':\n",
        "    n = len(dataframe)\n",
        "    data = np.zeros((n,dim,dim,3),dtype = np.float32)\n",
        "    labels = np.zeros((n,2),dtype = np.float32)\n",
        "    count = 0\n",
        "    \n",
        "    for j in range(0,n):    \n",
        "      img_name = dataframe.iloc[j]['image']\n",
        "      label = dataframe.iloc[j]['label']\n",
        "      \n",
        "      encoded_label = np_utils.to_categorical(label, num_classes=2)\n",
        "            \n",
        "      img = cv2.imread(str(img_name))\n",
        "      img = cv2.resize(img, (dim,dim))\n",
        "      \n",
        "      if img.shape[2]==1:   \n",
        "        img = np.dstack([img, img, img])\n",
        "                                   \n",
        "      orig_img = img.astype(np.float32)/255.\n",
        "                        \n",
        "      data[count] = orig_img\n",
        "      labels[count] = encoded_label\n",
        "    \n",
        "      count +=1      \n",
        "  return data,labels                  "
      ],
      "execution_count": 0,
      "outputs": []
    },
    {
      "cell_type": "code",
      "metadata": {
        "id": "1CTe3UIOoFhC",
        "colab_type": "code",
        "colab": {}
      },
      "source": [
        "data_train, labels_train = aug_method(train,dim=100,method='paper')"
      ],
      "execution_count": 0,
      "outputs": []
    },
    {
      "cell_type": "code",
      "metadata": {
        "id": "Rs2o_i_zg_lj",
        "colab_type": "code",
        "colab": {}
      },
      "source": [
        "def test_prep(dataframe,dim):    \n",
        "  n = len(dataframe)\n",
        "  data = np.zeros((n,dim,dim,3),dtype = np.float32)\n",
        "  labels = np.zeros((n,2),dtype = np.float32)\n",
        "  count = 0\n",
        "\n",
        "  for j in range(0,n):\n",
        "    img_name = dataframe.iloc[j]['image']\n",
        "    label = dataframe.iloc[j]['label']\n",
        "\n",
        "    encoded_label = np_utils.to_categorical(label, num_classes=2)\n",
        "\n",
        "    img = cv2.imread(str(img_name))\n",
        "    img = cv2.resize(img, (dim,dim))\n",
        "\n",
        "    if img.shape[2]==1:\n",
        "      img = np.dstack([img, img, img])\n",
        "\n",
        "    orig_img = img.astype(np.float32)/255.\n",
        "\n",
        "    data[count] = orig_img\n",
        "    labels[count] = encoded_label\n",
        "    count+=1\n",
        "  return data, labels"
      ],
      "execution_count": 0,
      "outputs": []
    },
    {
      "cell_type": "code",
      "metadata": {
        "id": "WQC9YHT1oWXf",
        "colab_type": "code",
        "colab": {}
      },
      "source": [
        "data_test,labels_test = test_prep(test,dim=100)"
      ],
      "execution_count": 0,
      "outputs": []
    },
    {
      "cell_type": "markdown",
      "metadata": {
        "id": "viodvfyvmDSS",
        "colab_type": "text"
      },
      "source": [
        "## **Visualizing dataset images**"
      ]
    },
    {
      "cell_type": "code",
      "metadata": {
        "id": "nLuFjhqsDsAd",
        "colab_type": "code",
        "colab": {}
      },
      "source": [
        "y = np.argmax(labels_train, axis=-1)"
      ],
      "execution_count": 0,
      "outputs": []
    },
    {
      "cell_type": "code",
      "metadata": {
        "id": "m9UUxV0Jo9zr",
        "colab_type": "code",
        "outputId": "f593ad02-cee9-4d63-c11a-624f575b7ad2",
        "colab": {
          "base_uri": "https://localhost:8080/",
          "height": 464
        }
      },
      "source": [
        "f, ax = plt.subplots(4,5, figsize=(30,7))\n",
        "for i in range(0,20):\n",
        "    ax[i//5, i%5].imshow(data_train[i])\n",
        "    if y[i]==1:\n",
        "        ax[i//5, i%5].set_title(\"Non-ALL\")\n",
        "    else:\n",
        "        ax[i//5, i%5].set_title(\"ALL\")"
      ],
      "execution_count": 0,
      "outputs": [
        {
          "output_type": "display_data",
          "data": {
            "image/png": "[encoded data removed]",
            "text/plain": [
              "<Figure size 2160x504 with 20 Axes>"
            ]
          },
          "metadata": {
            "tags": []
          }
        }
      ]
    },
    {
      "cell_type": "markdown",
      "metadata": {
        "id": "qh2eNGw2U9jK",
        "colab_type": "text"
      },
      "source": [
        "### **Splitting into training and test set**"
      ]
    },
    {
      "cell_type": "code",
      "metadata": {
        "id": "vVhGNDOp4SpL",
        "colab_type": "code",
        "colab": {}
      },
      "source": [
        "X_train, X_test, y_train, y_test = data_train,data_test,labels_train,labels_test"
      ],
      "execution_count": 0,
      "outputs": []
    },
    {
      "cell_type": "code",
      "metadata": {
        "id": "oJ6ER15cwwrF",
        "colab_type": "code",
        "outputId": "2a86e1cc-4e61-4233-c297-1043ee514281",
        "colab": {
          "base_uri": "https://localhost:8080/",
          "height": 84
        }
      },
      "source": [
        "print(\"Shape of training data\",X_train.shape)\n",
        "print(\"Shape of testing data\",X_test.shape)\n",
        "print(\"Shape of training labels\",y_train.shape)\n",
        "print(\"Shape of testing labels\",y_test.shape)"
      ],
      "execution_count": 0,
      "outputs": [
        {
          "output_type": "stream",
          "text": [
            "Shape of training data (1170, 100, 100, 3)\n",
            "Shape of testing data (130, 100, 100, 3)\n",
            "Shape of training labels (1170, 2)\n",
            "Shape of testing labels (130, 2)\n"
          ],
          "name": "stdout"
        }
      ]
    },
    {
      "cell_type": "markdown",
      "metadata": {
        "id": "qrAQNIXMpPv7",
        "colab_type": "text"
      },
      "source": [
        "\n",
        "\n",
        "###**The following model was used in the paper**\n",
        "Additionaly three dropout layers with different dropout rates have been used to reduce overfitting"
      ]
    },
    {
      "cell_type": "code",
      "metadata": {
        "id": "X6-Em20CpBof",
        "colab_type": "code",
        "outputId": "5ebe12ce-de85-405d-df18-4c06c7a42f69",
        "colab": {
          "base_uri": "https://localhost:8080/",
          "height": 50
        }
      },
      "source": [
        "model = Sequential()\n",
        "model.add(Conv2D(16,(5,5),padding='valid',input_shape = X_train.shape[1:]))\n",
        "model.add(Activation('relu'))\n",
        "model.add(MaxPooling2D(pool_size=(2,2),strides=2,padding = 'valid'))\n",
        "model.add(Dropout(0.4))\n",
        "\n",
        "model.add(Conv2D(32,(5,5),padding='valid'))\n",
        "model.add(Activation('relu'))\n",
        "model.add(MaxPooling2D(pool_size=(2,2),strides=2,padding = 'valid'))\n",
        "model.add(Dropout(0.6))\n",
        "\n",
        "model.add(Conv2D(64,(5,5),padding='valid'))\n",
        "model.add(Activation('relu'))\n",
        "model.add(Dropout(0.8))\n",
        "\n",
        "model.add(Flatten())\n",
        "model.add(Dense(2,activation = 'softmax'))"
      ],
      "execution_count": 0,
      "outputs": [
        {
          "output_type": "stream",
          "text": [
            "WARNING:tensorflow:Large dropout rate: 0.6 (>0.5). In TensorFlow 2.x, dropout() uses dropout rate instead of keep_prob. Please ensure that this is intended.\n",
            "WARNING:tensorflow:Large dropout rate: 0.8 (>0.5). In TensorFlow 2.x, dropout() uses dropout rate instead of keep_prob. Please ensure that this is intended.\n"
          ],
          "name": "stdout"
        }
      ]
    },
    {
      "cell_type": "code",
      "metadata": {
        "id": "ZnjtIKJqt28j",
        "colab_type": "code",
        "outputId": "ff52173e-b769-4d16-c0d0-88fee6755353",
        "colab": {
          "base_uri": "https://localhost:8080/",
          "height": 588
        }
      },
      "source": [
        "model.summary()"
      ],
      "execution_count": 0,
      "outputs": [
        {
          "output_type": "stream",
          "text": [
            "Model: \"sequential_1\"\n",
            "_________________________________________________________________\n",
            "Layer (type)                 Output Shape              Param #   \n",
            "=================================================================\n",
            "conv2d_1 (Conv2D)            (None, 96, 96, 16)        1216      \n",
            "_________________________________________________________________\n",
            "activation_1 (Activation)    (None, 96, 96, 16)        0         \n",
            "_________________________________________________________________\n",
            "max_pooling2d_1 (MaxPooling2 (None, 48, 48, 16)        0         \n",
            "_________________________________________________________________\n",
            "dropout_1 (Dropout)          (None, 48, 48, 16)        0         \n",
            "_________________________________________________________________\n",
            "conv2d_2 (Conv2D)            (None, 44, 44, 32)        12832     \n",
            "_________________________________________________________________\n",
            "activation_2 (Activation)    (None, 44, 44, 32)        0         \n",
            "_________________________________________________________________\n",
            "max_pooling2d_2 (MaxPooling2 (None, 22, 22, 32)        0         \n",
            "_________________________________________________________________\n",
            "dropout_2 (Dropout)          (None, 22, 22, 32)        0         \n",
            "_________________________________________________________________\n",
            "conv2d_3 (Conv2D)            (None, 18, 18, 64)        51264     \n",
            "_________________________________________________________________\n",
            "activation_3 (Activation)    (None, 18, 18, 64)        0         \n",
            "_________________________________________________________________\n",
            "dropout_3 (Dropout)          (None, 18, 18, 64)        0         \n",
            "_________________________________________________________________\n",
            "flatten_1 (Flatten)          (None, 20736)             0         \n",
            "_________________________________________________________________\n",
            "dense_1 (Dense)              (None, 2)                 41474     \n",
            "=================================================================\n",
            "Total params: 106,786\n",
            "Trainable params: 106,786\n",
            "Non-trainable params: 0\n",
            "_________________________________________________________________\n"
          ],
          "name": "stdout"
        }
      ]
    },
    {
      "cell_type": "markdown",
      "metadata": {
        "id": "I60o6qEQleL4",
        "colab_type": "text"
      },
      "source": [
        "### **Model compilation and fitting**\n",
        "\n"
      ]
    },
    {
      "cell_type": "code",
      "metadata": {
        "id": "-Tw9CHEPMz1K",
        "colab_type": "code",
        "colab": {}
      },
      "source": [
        "batch_size = 100\n",
        "epochs= 300\n",
        "optimizer = keras.optimizers.rmsprop(lr = 0.0001, decay = 1e-6)\n",
        "model.compile(loss = 'binary_crossentropy',optimizer = optimizer, metrics = ['accuracy',keras_metrics.precision(), keras_metrics.recall()])"
      ],
      "execution_count": 0,
      "outputs": []
    },
    {
      "cell_type": "code",
      "metadata": {
        "id": "tRUmoNa_xTR_",
        "colab_type": "code",
        "outputId": "6b953897-0f6b-45ee-e2ca-3807f6b6a854",
        "colab": {
          "base_uri": "https://localhost:8080/",
          "height": 1000
        }
      },
      "source": [
        "history = model.fit(X_train,y_train,steps_per_epoch = int(len(X_train)/batch_size),epochs=epochs)\n",
        "history"
      ],
      "execution_count": 0,
      "outputs": [
        {
          "output_type": "stream",
          "text": [
            "WARNING:tensorflow:From /usr/local/lib/python3.6/dist-packages/keras/backend/tensorflow_backend.py:1020: The name tf.assign is deprecated. Please use tf.compat.v1.assign instead.\n",
            "\n",
            "WARNING:tensorflow:From /usr/local/lib/python3.6/dist-packages/keras/backend/tensorflow_backend.py:3005: The name tf.Session is deprecated. Please use tf.compat.v1.Session instead.\n",
            "\n",
            "WARNING:tensorflow:From /usr/local/lib/python3.6/dist-packages/keras/backend/tensorflow_backend.py:190: The name tf.get_default_session is deprecated. Please use tf.compat.v1.get_default_session instead.\n",
            "\n",
            "WARNING:tensorflow:From /usr/local/lib/python3.6/dist-packages/keras/backend/tensorflow_backend.py:197: The name tf.ConfigProto is deprecated. Please use tf.compat.v1.ConfigProto instead.\n",
            "\n",
            "WARNING:tensorflow:From /usr/local/lib/python3.6/dist-packages/keras/backend/tensorflow_backend.py:207: The name tf.global_variables is deprecated. Please use tf.compat.v1.global_variables instead.\n",
            "\n",
            "WARNING:tensorflow:From /usr/local/lib/python3.6/dist-packages/keras/backend/tensorflow_backend.py:216: The name tf.is_variable_initialized is deprecated. Please use tf.compat.v1.is_variable_initialized instead.\n",
            "\n",
            "WARNING:tensorflow:From /usr/local/lib/python3.6/dist-packages/keras/backend/tensorflow_backend.py:223: The name tf.variables_initializer is deprecated. Please use tf.compat.v1.variables_initializer instead.\n",
            "\n",
            "Epoch 1/300\n",
            "11/11 [==============================] - 9s 782ms/step - loss: 0.7212 - acc: 0.5250 - precision: 0.5309 - recall: 0.5528\n",
            "Epoch 2/300\n",
            "11/11 [==============================] - 2s 146ms/step - loss: 0.6871 - acc: 0.5487 - precision: 0.5524 - recall: 0.5862\n",
            "Epoch 3/300\n",
            "11/11 [==============================] - 2s 146ms/step - loss: 0.6725 - acc: 0.5750 - precision: 0.5770 - recall: 0.6102\n",
            "Epoch 4/300\n",
            "11/11 [==============================] - 2s 145ms/step - loss: 0.6550 - acc: 0.6093 - precision: 0.6083 - recall: 0.6472\n",
            "Epoch 5/300\n",
            "11/11 [==============================] - 2s 145ms/step - loss: 0.6357 - acc: 0.6290 - precision: 0.6314 - recall: 0.6466\n",
            "Epoch 6/300\n",
            "11/11 [==============================] - 2s 145ms/step - loss: 0.6166 - acc: 0.6514 - precision: 0.6556 - recall: 0.6601\n",
            "Epoch 7/300\n",
            "11/11 [==============================] - 2s 145ms/step - loss: 0.5966 - acc: 0.6731 - precision: 0.6867 - recall: 0.6549\n",
            "Epoch 8/300\n",
            "11/11 [==============================] - 2s 145ms/step - loss: 0.5798 - acc: 0.6845 - precision: 0.6910 - recall: 0.6849\n",
            "Epoch 9/300\n",
            "11/11 [==============================] - 2s 146ms/step - loss: 0.5667 - acc: 0.6990 - precision: 0.7179 - recall: 0.6706\n",
            "Epoch 10/300\n",
            "11/11 [==============================] - 2s 145ms/step - loss: 0.5581 - acc: 0.7015 - precision: 0.7108 - recall: 0.6945\n",
            "Epoch 11/300\n",
            "11/11 [==============================] - 2s 146ms/step - loss: 0.5439 - acc: 0.7104 - precision: 0.7308 - recall: 0.6801\n",
            "Epoch 12/300\n",
            "11/11 [==============================] - 2s 145ms/step - loss: 0.5351 - acc: 0.7206 - precision: 0.7339 - recall: 0.7054\n",
            "Epoch 13/300\n",
            "11/11 [==============================] - 2s 146ms/step - loss: 0.5304 - acc: 0.7207 - precision: 0.7417 - recall: 0.6901\n",
            "Epoch 14/300\n",
            "11/11 [==============================] - 2s 145ms/step - loss: 0.5202 - acc: 0.7301 - precision: 0.7435 - recall: 0.7150\n",
            "Epoch 15/300\n",
            "11/11 [==============================] - 2s 144ms/step - loss: 0.5142 - acc: 0.7294 - precision: 0.7507 - recall: 0.6991\n",
            "Epoch 16/300\n",
            "11/11 [==============================] - 2s 145ms/step - loss: 0.5098 - acc: 0.7384 - precision: 0.7515 - recall: 0.7242\n",
            "Epoch 17/300\n",
            "11/11 [==============================] - 2s 145ms/step - loss: 0.5029 - acc: 0.7435 - precision: 0.7673 - recall: 0.7101\n",
            "Epoch 18/300\n",
            "11/11 [==============================] - 2s 145ms/step - loss: 0.5000 - acc: 0.7434 - precision: 0.7549 - recall: 0.7325\n",
            "Epoch 19/300\n",
            "11/11 [==============================] - 2s 147ms/step - loss: 0.4943 - acc: 0.7477 - precision: 0.7741 - recall: 0.7104\n",
            "Epoch 20/300\n",
            "11/11 [==============================] - 2s 146ms/step - loss: 0.4893 - acc: 0.7520 - precision: 0.7618 - recall: 0.7441\n",
            "Epoch 21/300\n",
            "11/11 [==============================] - 2s 145ms/step - loss: 0.4797 - acc: 0.7598 - precision: 0.7847 - recall: 0.7260\n",
            "Epoch 22/300\n",
            "11/11 [==============================] - 2s 146ms/step - loss: 0.4796 - acc: 0.7517 - precision: 0.7619 - recall: 0.7430\n",
            "Epoch 23/300\n",
            "11/11 [==============================] - 2s 145ms/step - loss: 0.4764 - acc: 0.7563 - precision: 0.7797 - recall: 0.7248\n",
            "Epoch 24/300\n",
            "11/11 [==============================] - 2s 145ms/step - loss: 0.4701 - acc: 0.7613 - precision: 0.7735 - recall: 0.7492\n",
            "Epoch 25/300\n",
            "11/11 [==============================] - 2s 145ms/step - loss: 0.4648 - acc: 0.7634 - precision: 0.7891 - recall: 0.7288\n",
            "Epoch 26/300\n",
            "11/11 [==============================] - 2s 146ms/step - loss: 0.4567 - acc: 0.7678 - precision: 0.7799 - recall: 0.7560\n",
            "Epoch 27/300\n",
            "11/11 [==============================] - 2s 146ms/step - loss: 0.4577 - acc: 0.7669 - precision: 0.7890 - recall: 0.7383\n",
            "Epoch 28/300\n",
            "11/11 [==============================] - 2s 146ms/step - loss: 0.4572 - acc: 0.7718 - precision: 0.7857 - recall: 0.7570\n",
            "Epoch 29/300\n",
            "11/11 [==============================] - 2s 147ms/step - loss: 0.4497 - acc: 0.7709 - precision: 0.7955 - recall: 0.7384\n",
            "Epoch 30/300\n",
            "11/11 [==============================] - 2s 146ms/step - loss: 0.4465 - acc: 0.7772 - precision: 0.7907 - recall: 0.7631\n",
            "Epoch 31/300\n",
            "11/11 [==============================] - 2s 145ms/step - loss: 0.4421 - acc: 0.7787 - precision: 0.8038 - recall: 0.7463\n",
            "Epoch 32/300\n",
            "11/11 [==============================] - 2s 145ms/step - loss: 0.4437 - acc: 0.7784 - precision: 0.7942 - recall: 0.7606\n",
            "Epoch 33/300\n",
            "11/11 [==============================] - 2s 145ms/step - loss: 0.4335 - acc: 0.7825 - precision: 0.8086 - recall: 0.7489\n",
            "Epoch 34/300\n",
            "11/11 [==============================] - 2s 145ms/step - loss: 0.4282 - acc: 0.7854 - precision: 0.8003 - recall: 0.7692\n",
            "Epoch 35/300\n",
            "11/11 [==============================] - 2s 144ms/step - loss: 0.4270 - acc: 0.7855 - precision: 0.8093 - recall: 0.7556\n",
            "Epoch 36/300\n",
            "11/11 [==============================] - 2s 145ms/step - loss: 0.4238 - acc: 0.7887 - precision: 0.8025 - recall: 0.7744\n",
            "Epoch 37/300\n",
            "11/11 [==============================] - 2s 145ms/step - loss: 0.4180 - acc: 0.7946 - precision: 0.8228 - recall: 0.7588\n",
            "Epoch 38/300\n",
            "11/11 [==============================] - 2s 145ms/step - loss: 0.4127 - acc: 0.7995 - precision: 0.8110 - recall: 0.7890\n",
            "Epoch 39/300\n",
            "11/11 [==============================] - 2s 146ms/step - loss: 0.4118 - acc: 0.7939 - precision: 0.8211 - recall: 0.7594\n",
            "Epoch 40/300\n",
            "11/11 [==============================] - 2s 146ms/step - loss: 0.4059 - acc: 0.8027 - precision: 0.8142 - recall: 0.7922\n",
            "Epoch 41/300\n",
            "11/11 [==============================] - 2s 146ms/step - loss: 0.4063 - acc: 0.7988 - precision: 0.8249 - recall: 0.7665\n",
            "Epoch 42/300\n",
            "11/11 [==============================] - 2s 145ms/step - loss: 0.4014 - acc: 0.8022 - precision: 0.8157 - recall: 0.7885\n",
            "Epoch 43/300\n",
            "11/11 [==============================] - 2s 145ms/step - loss: 0.3975 - acc: 0.8016 - precision: 0.8247 - recall: 0.7738\n",
            "Epoch 44/300\n",
            "11/11 [==============================] - 2s 145ms/step - loss: 0.3887 - acc: 0.8166 - precision: 0.8336 - recall: 0.7980\n",
            "Epoch 45/300\n",
            "11/11 [==============================] - 2s 145ms/step - loss: 0.3832 - acc: 0.8145 - precision: 0.8403 - recall: 0.7834\n",
            "Epoch 46/300\n",
            "11/11 [==============================] - 2s 145ms/step - loss: 0.3812 - acc: 0.8113 - precision: 0.8239 - recall: 0.7992\n",
            "Epoch 47/300\n",
            "11/11 [==============================] - 2s 146ms/step - loss: 0.3772 - acc: 0.8145 - precision: 0.8423 - recall: 0.7808\n",
            "Epoch 48/300\n",
            "11/11 [==============================] - 2s 146ms/step - loss: 0.3754 - acc: 0.8187 - precision: 0.8316 - recall: 0.8062\n",
            "Epoch 49/300\n",
            "11/11 [==============================] - 2s 146ms/step - loss: 0.3668 - acc: 0.8213 - precision: 0.8459 - recall: 0.7923\n",
            "Epoch 50/300\n",
            "11/11 [==============================] - 2s 145ms/step - loss: 0.3639 - acc: 0.8268 - precision: 0.8378 - recall: 0.8171\n",
            "Epoch 51/300\n",
            "11/11 [==============================] - 2s 146ms/step - loss: 0.3629 - acc: 0.8254 - precision: 0.8490 - recall: 0.7980\n",
            "Epoch 52/300\n",
            "11/11 [==============================] - 2s 146ms/step - loss: 0.3588 - acc: 0.8290 - precision: 0.8425 - recall: 0.8156\n",
            "Epoch 53/300\n",
            "11/11 [==============================] - 2s 146ms/step - loss: 0.3587 - acc: 0.8247 - precision: 0.8481 - recall: 0.7975\n",
            "Epoch 54/300\n",
            "11/11 [==============================] - 2s 145ms/step - loss: 0.3487 - acc: 0.8346 - precision: 0.8456 - recall: 0.8248\n",
            "Epoch 55/300\n",
            "11/11 [==============================] - 2s 145ms/step - loss: 0.3457 - acc: 0.8345 - precision: 0.8589 - recall: 0.8066\n",
            "Epoch 56/300\n",
            "11/11 [==============================] - 2s 145ms/step - loss: 0.3400 - acc: 0.8408 - precision: 0.8491 - recall: 0.8347\n",
            "Epoch 57/300\n",
            "11/11 [==============================] - 2s 146ms/step - loss: 0.3360 - acc: 0.8421 - precision: 0.8648 - recall: 0.8167\n",
            "Epoch 58/300\n",
            "11/11 [==============================] - 2s 146ms/step - loss: 0.3374 - acc: 0.8373 - precision: 0.8486 - recall: 0.8271\n",
            "Epoch 59/300\n",
            "11/11 [==============================] - 2s 145ms/step - loss: 0.3299 - acc: 0.8455 - precision: 0.8678 - recall: 0.8208\n",
            "Epoch 60/300\n",
            "11/11 [==============================] - 2s 145ms/step - loss: 0.3253 - acc: 0.8465 - precision: 0.8595 - recall: 0.8341\n",
            "Epoch 61/300\n",
            "11/11 [==============================] - 2s 146ms/step - loss: 0.3258 - acc: 0.8435 - precision: 0.8642 - recall: 0.8208\n",
            "Epoch 62/300\n",
            "11/11 [==============================] - 2s 145ms/step - loss: 0.3206 - acc: 0.8492 - precision: 0.8591 - recall: 0.8408\n",
            "Epoch 63/300\n",
            "11/11 [==============================] - 2s 146ms/step - loss: 0.3172 - acc: 0.8491 - precision: 0.8707 - recall: 0.8254\n",
            "Epoch 64/300\n",
            "11/11 [==============================] - 2s 145ms/step - loss: 0.3187 - acc: 0.8497 - precision: 0.8605 - recall: 0.8402\n",
            "Epoch 65/300\n",
            "11/11 [==============================] - 2s 146ms/step - loss: 0.3079 - acc: 0.8549 - precision: 0.8794 - recall: 0.8278\n",
            "Epoch 66/300\n",
            "11/11 [==============================] - 2s 145ms/step - loss: 0.3056 - acc: 0.8586 - precision: 0.8693 - recall: 0.8491\n",
            "Epoch 67/300\n",
            "11/11 [==============================] - 2s 146ms/step - loss: 0.3085 - acc: 0.8566 - precision: 0.8804 - recall: 0.8303\n",
            "Epoch 68/300\n",
            "11/11 [==============================] - 2s 146ms/step - loss: 0.3015 - acc: 0.8584 - precision: 0.8689 - recall: 0.8491\n",
            "Epoch 69/300\n",
            "11/11 [==============================] - 2s 147ms/step - loss: 0.2930 - acc: 0.8608 - precision: 0.8805 - recall: 0.8399\n",
            "Epoch 70/300\n",
            "11/11 [==============================] - 2s 145ms/step - loss: 0.2914 - acc: 0.8645 - precision: 0.8767 - recall: 0.8531\n",
            "Epoch 71/300\n",
            "11/11 [==============================] - 2s 145ms/step - loss: 0.2922 - acc: 0.8598 - precision: 0.8755 - recall: 0.8439\n",
            "Epoch 72/300\n",
            "11/11 [==============================] - 2s 146ms/step - loss: 0.2872 - acc: 0.8658 - precision: 0.8792 - recall: 0.8529\n",
            "Epoch 73/300\n",
            "11/11 [==============================] - 2s 145ms/step - loss: 0.2809 - acc: 0.8693 - precision: 0.8892 - recall: 0.8483\n",
            "Epoch 74/300\n",
            "11/11 [==============================] - 2s 147ms/step - loss: 0.2796 - acc: 0.8717 - precision: 0.8838 - recall: 0.8604\n",
            "Epoch 75/300\n",
            "11/11 [==============================] - 2s 147ms/step - loss: 0.2831 - acc: 0.8680 - precision: 0.8864 - recall: 0.8488\n",
            "Epoch 76/300\n",
            "11/11 [==============================] - 2s 146ms/step - loss: 0.2782 - acc: 0.8702 - precision: 0.8832 - recall: 0.8577\n",
            "Epoch 77/300\n",
            "11/11 [==============================] - 2s 146ms/step - loss: 0.2704 - acc: 0.8764 - precision: 0.8954 - recall: 0.8566\n",
            "Epoch 78/300\n",
            "11/11 [==============================] - 2s 146ms/step - loss: 0.2688 - acc: 0.8756 - precision: 0.8840 - recall: 0.8690\n",
            "Epoch 79/300\n",
            "11/11 [==============================] - 2s 146ms/step - loss: 0.2636 - acc: 0.8796 - precision: 0.9018 - recall: 0.8560\n",
            "Epoch 80/300\n",
            "11/11 [==============================] - 2s 146ms/step - loss: 0.2668 - acc: 0.8793 - precision: 0.8882 - recall: 0.8719\n",
            "Epoch 81/300\n",
            "11/11 [==============================] - 2s 146ms/step - loss: 0.2625 - acc: 0.8766 - precision: 0.8947 - recall: 0.8580\n",
            "Epoch 82/300\n",
            "11/11 [==============================] - 2s 145ms/step - loss: 0.2602 - acc: 0.8818 - precision: 0.8904 - recall: 0.8750\n",
            "Epoch 83/300\n",
            "11/11 [==============================] - 2s 147ms/step - loss: 0.2540 - acc: 0.8832 - precision: 0.8981 - recall: 0.8685\n",
            "Epoch 84/300\n",
            "11/11 [==============================] - 2s 146ms/step - loss: 0.2575 - acc: 0.8869 - precision: 0.8960 - recall: 0.8792\n",
            "Epoch 85/300\n",
            "11/11 [==============================] - 2s 145ms/step - loss: 0.2546 - acc: 0.8832 - precision: 0.8990 - recall: 0.8675\n",
            "Epoch 86/300\n",
            "11/11 [==============================] - 2s 145ms/step - loss: 0.2478 - acc: 0.8869 - precision: 0.8937 - recall: 0.8823\n",
            "Epoch 87/300\n",
            "11/11 [==============================] - 2s 145ms/step - loss: 0.2490 - acc: 0.8873 - precision: 0.9069 - recall: 0.8672\n",
            "Epoch 88/300\n",
            "11/11 [==============================] - 2s 145ms/step - loss: 0.2432 - acc: 0.8896 - precision: 0.8958 - recall: 0.8855\n",
            "Epoch 89/300\n",
            "11/11 [==============================] - 2s 146ms/step - loss: 0.2429 - acc: 0.8897 - precision: 0.9090 - recall: 0.8698\n",
            "Epoch 90/300\n",
            "11/11 [==============================] - 2s 145ms/step - loss: 0.2385 - acc: 0.8930 - precision: 0.8988 - recall: 0.8893\n",
            "Epoch 91/300\n",
            "11/11 [==============================] - 2s 146ms/step - loss: 0.2373 - acc: 0.8955 - precision: 0.9112 - recall: 0.8799\n",
            "Epoch 92/300\n",
            "11/11 [==============================] - 2s 145ms/step - loss: 0.2274 - acc: 0.9033 - precision: 0.9108 - recall: 0.8975\n",
            "Epoch 93/300\n",
            "11/11 [==============================] - 2s 145ms/step - loss: 0.2350 - acc: 0.8944 - precision: 0.9105 - recall: 0.8783\n",
            "Epoch 94/300\n",
            "11/11 [==============================] - 2s 146ms/step - loss: 0.2298 - acc: 0.8972 - precision: 0.9041 - recall: 0.8921\n",
            "Epoch 95/300\n",
            "11/11 [==============================] - 2s 146ms/step - loss: 0.2281 - acc: 0.8955 - precision: 0.9098 - recall: 0.8815\n",
            "Epoch 96/300\n",
            "11/11 [==============================] - 2s 146ms/step - loss: 0.2251 - acc: 0.9021 - precision: 0.9080 - recall: 0.8982\n",
            "Epoch 97/300\n",
            "11/11 [==============================] - 2s 148ms/step - loss: 0.2216 - acc: 0.9028 - precision: 0.9147 - recall: 0.8916\n",
            "Epoch 98/300\n",
            "11/11 [==============================] - 2s 146ms/step - loss: 0.2154 - acc: 0.9085 - precision: 0.9132 - recall: 0.9060\n",
            "Epoch 99/300\n",
            "11/11 [==============================] - 2s 146ms/step - loss: 0.2155 - acc: 0.9069 - precision: 0.9247 - recall: 0.8890\n",
            "Epoch 100/300\n",
            "11/11 [==============================] - 2s 146ms/step - loss: 0.2199 - acc: 0.9048 - precision: 0.9117 - recall: 0.8996\n",
            "Epoch 101/300\n",
            "11/11 [==============================] - 2s 146ms/step - loss: 0.2182 - acc: 0.9049 - precision: 0.9146 - recall: 0.8964\n",
            "Epoch 102/300\n",
            "11/11 [==============================] - 2s 147ms/step - loss: 0.2135 - acc: 0.9075 - precision: 0.9143 - recall: 0.9024\n",
            "Epoch 103/300\n",
            "11/11 [==============================] - 2s 145ms/step - loss: 0.2043 - acc: 0.9123 - precision: 0.9255 - recall: 0.8996\n",
            "Epoch 104/300\n",
            "11/11 [==============================] - 2s 147ms/step - loss: 0.2021 - acc: 0.9135 - precision: 0.9204 - recall: 0.9082\n",
            "Epoch 105/300\n",
            "11/11 [==============================] - 2s 146ms/step - loss: 0.2060 - acc: 0.9099 - precision: 0.9210 - recall: 0.8998\n",
            "Epoch 106/300\n",
            "11/11 [==============================] - 2s 146ms/step - loss: 0.2038 - acc: 0.9117 - precision: 0.9178 - recall: 0.9074\n",
            "Epoch 107/300\n",
            "11/11 [==============================] - 2s 146ms/step - loss: 0.1974 - acc: 0.9169 - precision: 0.9294 - recall: 0.9051\n",
            "Epoch 108/300\n",
            "11/11 [==============================] - 2s 146ms/step - loss: 0.1956 - acc: 0.9166 - precision: 0.9209 - recall: 0.9143\n",
            "Epoch 109/300\n",
            "11/11 [==============================] - 2s 146ms/step - loss: 0.1972 - acc: 0.9168 - precision: 0.9274 - recall: 0.9071\n",
            "Epoch 110/300\n",
            "11/11 [==============================] - 2s 146ms/step - loss: 0.1871 - acc: 0.9222 - precision: 0.9273 - recall: 0.9189\n",
            "Epoch 111/300\n",
            "11/11 [==============================] - 2s 147ms/step - loss: 0.1915 - acc: 0.9181 - precision: 0.9299 - recall: 0.9071\n",
            "Epoch 112/300\n",
            "11/11 [==============================] - 2s 146ms/step - loss: 0.1871 - acc: 0.9209 - precision: 0.9240 - recall: 0.9198\n",
            "Epoch 113/300\n",
            "11/11 [==============================] - 2s 146ms/step - loss: 0.1895 - acc: 0.9190 - precision: 0.9304 - recall: 0.9083\n",
            "Epoch 114/300\n",
            "11/11 [==============================] - 2s 147ms/step - loss: 0.1774 - acc: 0.9274 - precision: 0.9314 - recall: 0.9250\n",
            "Epoch 115/300\n",
            "11/11 [==============================] - 2s 146ms/step - loss: 0.1849 - acc: 0.9214 - precision: 0.9318 - recall: 0.9120\n",
            "Epoch 116/300\n",
            "11/11 [==============================] - 2s 146ms/step - loss: 0.1813 - acc: 0.9235 - precision: 0.9269 - recall: 0.9219\n",
            "Epoch 117/300\n",
            "11/11 [==============================] - 2s 146ms/step - loss: 0.1819 - acc: 0.9202 - precision: 0.9312 - recall: 0.9100\n",
            "Epoch 118/300\n",
            "11/11 [==============================] - 2s 148ms/step - loss: 0.1733 - acc: 0.9274 - precision: 0.9279 - recall: 0.9291\n",
            "Epoch 119/300\n",
            "11/11 [==============================] - 2s 146ms/step - loss: 0.1745 - acc: 0.9282 - precision: 0.9383 - recall: 0.9190\n",
            "Epoch 120/300\n",
            "11/11 [==============================] - 2s 145ms/step - loss: 0.1687 - acc: 0.9277 - precision: 0.9300 - recall: 0.9273\n",
            "Epoch 121/300\n",
            "11/11 [==============================] - 2s 146ms/step - loss: 0.1753 - acc: 0.9259 - precision: 0.9347 - recall: 0.9181\n",
            "Epoch 122/300\n",
            "11/11 [==============================] - 2s 145ms/step - loss: 0.1628 - acc: 0.9346 - precision: 0.9354 - recall: 0.9357\n",
            "Epoch 123/300\n",
            "11/11 [==============================] - 2s 146ms/step - loss: 0.1699 - acc: 0.9278 - precision: 0.9397 - recall: 0.9166\n",
            "Epoch 124/300\n",
            "11/11 [==============================] - 2s 146ms/step - loss: 0.1665 - acc: 0.9297 - precision: 0.9329 - recall: 0.9282\n",
            "Epoch 125/300\n",
            "11/11 [==============================] - 2s 148ms/step - loss: 0.1565 - acc: 0.9360 - precision: 0.9442 - recall: 0.9288\n",
            "Epoch 126/300\n",
            "11/11 [==============================] - 2s 146ms/step - loss: 0.1664 - acc: 0.9298 - precision: 0.9359 - recall: 0.9252\n",
            "Epoch 127/300\n",
            "11/11 [==============================] - 2s 146ms/step - loss: 0.1674 - acc: 0.9296 - precision: 0.9375 - recall: 0.9229\n",
            "Epoch 128/300\n",
            "11/11 [==============================] - 2s 145ms/step - loss: 0.1516 - acc: 0.9404 - precision: 0.9431 - recall: 0.9392\n",
            "Epoch 129/300\n",
            "11/11 [==============================] - 2s 145ms/step - loss: 0.1644 - acc: 0.9319 - precision: 0.9393 - recall: 0.9258\n",
            "Epoch 130/300\n",
            "11/11 [==============================] - 2s 146ms/step - loss: 0.1547 - acc: 0.9377 - precision: 0.9384 - recall: 0.9389\n",
            "Epoch 131/300\n",
            "11/11 [==============================] - 2s 145ms/step - loss: 0.1534 - acc: 0.9374 - precision: 0.9440 - recall: 0.9319\n",
            "Epoch 132/300\n",
            "11/11 [==============================] - 2s 146ms/step - loss: 0.1520 - acc: 0.9385 - precision: 0.9398 - recall: 0.9391\n",
            "Epoch 133/300\n",
            "11/11 [==============================] - 2s 147ms/step - loss: 0.1474 - acc: 0.9418 - precision: 0.9475 - recall: 0.9373\n",
            "Epoch 134/300\n",
            "11/11 [==============================] - 2s 145ms/step - loss: 0.1549 - acc: 0.9371 - precision: 0.9429 - recall: 0.9325\n",
            "Epoch 135/300\n",
            "11/11 [==============================] - 2s 146ms/step - loss: 0.1441 - acc: 0.9415 - precision: 0.9475 - recall: 0.9366\n",
            "Epoch 136/300\n",
            "11/11 [==============================] - 2s 146ms/step - loss: 0.1520 - acc: 0.9360 - precision: 0.9403 - recall: 0.9331\n",
            "Epoch 137/300\n",
            "11/11 [==============================] - 2s 145ms/step - loss: 0.1356 - acc: 0.9460 - precision: 0.9484 - recall: 0.9451\n",
            "Epoch 138/300\n",
            "11/11 [==============================] - 2s 146ms/step - loss: 0.1509 - acc: 0.9365 - precision: 0.9430 - recall: 0.9313\n",
            "Epoch 139/300\n",
            "11/11 [==============================] - 2s 146ms/step - loss: 0.1404 - acc: 0.9443 - precision: 0.9503 - recall: 0.9394\n",
            "Epoch 140/300\n",
            "11/11 [==============================] - 2s 147ms/step - loss: 0.1441 - acc: 0.9403 - precision: 0.9457 - recall: 0.9362\n",
            "Epoch 141/300\n",
            "11/11 [==============================] - 2s 145ms/step - loss: 0.1391 - acc: 0.9425 - precision: 0.9508 - recall: 0.9351\n",
            "Epoch 142/300\n",
            "11/11 [==============================] - 2s 146ms/step - loss: 0.1367 - acc: 0.9446 - precision: 0.9470 - recall: 0.9437\n",
            "Epoch 143/300\n",
            "11/11 [==============================] - 2s 146ms/step - loss: 0.1374 - acc: 0.9425 - precision: 0.9504 - recall: 0.9356\n",
            "Epoch 144/300\n",
            "11/11 [==============================] - 2s 146ms/step - loss: 0.1403 - acc: 0.9433 - precision: 0.9478 - recall: 0.9400\n",
            "Epoch 145/300\n",
            "11/11 [==============================] - 2s 145ms/step - loss: 0.1360 - acc: 0.9436 - precision: 0.9495 - recall: 0.9388\n",
            "Epoch 146/300\n",
            "11/11 [==============================] - 2s 146ms/step - loss: 0.1288 - acc: 0.9482 - precision: 0.9482 - recall: 0.9498\n",
            "Epoch 147/300\n",
            "11/11 [==============================] - 2s 145ms/step - loss: 0.1374 - acc: 0.9439 - precision: 0.9494 - recall: 0.9395\n",
            "Epoch 148/300\n",
            "11/11 [==============================] - 2s 145ms/step - loss: 0.1389 - acc: 0.9431 - precision: 0.9475 - recall: 0.9400\n",
            "Epoch 149/300\n",
            "11/11 [==============================] - 2s 145ms/step - loss: 0.1307 - acc: 0.9470 - precision: 0.9529 - recall: 0.9421\n",
            "Epoch 150/300\n",
            "11/11 [==============================] - 2s 145ms/step - loss: 0.1256 - acc: 0.9484 - precision: 0.9500 - recall: 0.9483\n",
            "Epoch 151/300\n",
            "11/11 [==============================] - 2s 146ms/step - loss: 0.1293 - acc: 0.9466 - precision: 0.9530 - recall: 0.9412\n",
            "Epoch 152/300\n",
            "11/11 [==============================] - 2s 146ms/step - loss: 0.1189 - acc: 0.9533 - precision: 0.9552 - recall: 0.9527\n",
            "Epoch 153/300\n",
            "11/11 [==============================] - 2s 146ms/step - loss: 0.1265 - acc: 0.9493 - precision: 0.9563 - recall: 0.9434\n",
            "Epoch 154/300\n",
            "11/11 [==============================] - 2s 147ms/step - loss: 0.1265 - acc: 0.9499 - precision: 0.9525 - recall: 0.9486\n",
            "Epoch 155/300\n",
            "11/11 [==============================] - 2s 146ms/step - loss: 0.1221 - acc: 0.9512 - precision: 0.9564 - recall: 0.9470\n",
            "Epoch 156/300\n",
            "11/11 [==============================] - 2s 147ms/step - loss: 0.1233 - acc: 0.9504 - precision: 0.9538 - recall: 0.9483\n",
            "Epoch 157/300\n",
            "11/11 [==============================] - 2s 146ms/step - loss: 0.1213 - acc: 0.9517 - precision: 0.9580 - recall: 0.9464\n",
            "Epoch 158/300\n",
            "11/11 [==============================] - 2s 147ms/step - loss: 0.1194 - acc: 0.9524 - precision: 0.9562 - recall: 0.9498\n",
            "Epoch 159/300\n",
            "11/11 [==============================] - 2s 146ms/step - loss: 0.1241 - acc: 0.9490 - precision: 0.9549 - recall: 0.9440\n",
            "Epoch 160/300\n",
            "11/11 [==============================] - 2s 147ms/step - loss: 0.1172 - acc: 0.9521 - precision: 0.9561 - recall: 0.9493\n",
            "Epoch 161/300\n",
            "11/11 [==============================] - 2s 146ms/step - loss: 0.1107 - acc: 0.9572 - precision: 0.9564 - recall: 0.9594\n",
            "Epoch 162/300\n",
            "11/11 [==============================] - 2s 146ms/step - loss: 0.1186 - acc: 0.9523 - precision: 0.9592 - recall: 0.9463\n",
            "Epoch 163/300\n",
            "11/11 [==============================] - 2s 146ms/step - loss: 0.1206 - acc: 0.9495 - precision: 0.9533 - recall: 0.9469\n",
            "Epoch 164/300\n",
            "11/11 [==============================] - 2s 146ms/step - loss: 0.1161 - acc: 0.9563 - precision: 0.9645 - recall: 0.9489\n",
            "Epoch 165/300\n",
            "11/11 [==============================] - 2s 146ms/step - loss: 0.1126 - acc: 0.9559 - precision: 0.9558 - recall: 0.9575\n",
            "Epoch 166/300\n",
            "11/11 [==============================] - 2s 146ms/step - loss: 0.1145 - acc: 0.9538 - precision: 0.9575 - recall: 0.9513\n",
            "Epoch 167/300\n",
            "11/11 [==============================] - 2s 146ms/step - loss: 0.1071 - acc: 0.9570 - precision: 0.9601 - recall: 0.9549\n",
            "Epoch 168/300\n",
            "11/11 [==============================] - 2s 146ms/step - loss: 0.1204 - acc: 0.9511 - precision: 0.9568 - recall: 0.9464\n",
            "Epoch 169/300\n",
            "11/11 [==============================] - 2s 146ms/step - loss: 0.1024 - acc: 0.9604 - precision: 0.9601 - recall: 0.9619\n",
            "Epoch 170/300\n",
            "11/11 [==============================] - 2s 146ms/step - loss: 0.1103 - acc: 0.9551 - precision: 0.9606 - recall: 0.9506\n",
            "Epoch 171/300\n",
            "11/11 [==============================] - 2s 147ms/step - loss: 0.1153 - acc: 0.9528 - precision: 0.9557 - recall: 0.9510\n",
            "Epoch 172/300\n",
            "11/11 [==============================] - 2s 145ms/step - loss: 0.1029 - acc: 0.9608 - precision: 0.9640 - recall: 0.9587\n",
            "Epoch 173/300\n",
            "11/11 [==============================] - 2s 145ms/step - loss: 0.1027 - acc: 0.9582 - precision: 0.9627 - recall: 0.9547\n",
            "Epoch 174/300\n",
            "11/11 [==============================] - 2s 145ms/step - loss: 0.1124 - acc: 0.9555 - precision: 0.9590 - recall: 0.9530\n",
            "Epoch 175/300\n",
            "11/11 [==============================] - 2s 146ms/step - loss: 0.0975 - acc: 0.9628 - precision: 0.9667 - recall: 0.9597\n",
            "Epoch 176/300\n",
            "11/11 [==============================] - 2s 146ms/step - loss: 0.1102 - acc: 0.9550 - precision: 0.9583 - recall: 0.9529\n",
            "Epoch 177/300\n",
            "11/11 [==============================] - 2s 146ms/step - loss: 0.1042 - acc: 0.9582 - precision: 0.9588 - recall: 0.9588\n",
            "Epoch 178/300\n",
            "11/11 [==============================] - 2s 146ms/step - loss: 0.1037 - acc: 0.9601 - precision: 0.9645 - recall: 0.9565\n",
            "Epoch 179/300\n",
            "11/11 [==============================] - 2s 146ms/step - loss: 0.1013 - acc: 0.9602 - precision: 0.9631 - recall: 0.9584\n",
            "Epoch 180/300\n",
            "11/11 [==============================] - 2s 145ms/step - loss: 0.1046 - acc: 0.9563 - precision: 0.9605 - recall: 0.9532\n",
            "Epoch 181/300\n",
            "11/11 [==============================] - 2s 146ms/step - loss: 0.1023 - acc: 0.9578 - precision: 0.9618 - recall: 0.9549\n",
            "Epoch 182/300\n",
            "11/11 [==============================] - 2s 145ms/step - loss: 0.0982 - acc: 0.9608 - precision: 0.9623 - recall: 0.9605\n",
            "Epoch 183/300\n",
            "11/11 [==============================] - 2s 145ms/step - loss: 0.0980 - acc: 0.9622 - precision: 0.9651 - recall: 0.9602\n",
            "Epoch 184/300\n",
            "11/11 [==============================] - 2s 146ms/step - loss: 0.1000 - acc: 0.9603 - precision: 0.9648 - recall: 0.9567\n",
            "Epoch 185/300\n",
            "11/11 [==============================] - 2s 146ms/step - loss: 0.0948 - acc: 0.9626 - precision: 0.9655 - recall: 0.9607\n",
            "Epoch 186/300\n",
            "11/11 [==============================] - 2s 145ms/step - loss: 0.1043 - acc: 0.9577 - precision: 0.9612 - recall: 0.9552\n",
            "Epoch 187/300\n",
            "11/11 [==============================] - 2s 145ms/step - loss: 0.0938 - acc: 0.9612 - precision: 0.9662 - recall: 0.9571\n",
            "Epoch 188/300\n",
            "11/11 [==============================] - 2s 145ms/step - loss: 0.0994 - acc: 0.9597 - precision: 0.9621 - recall: 0.9584\n",
            "Epoch 189/300\n",
            "11/11 [==============================] - 2s 147ms/step - loss: 0.0942 - acc: 0.9632 - precision: 0.9696 - recall: 0.9575\n",
            "Epoch 190/300\n",
            "11/11 [==============================] - 2s 146ms/step - loss: 0.0925 - acc: 0.9626 - precision: 0.9640 - recall: 0.9624\n",
            "Epoch 191/300\n",
            "11/11 [==============================] - 2s 146ms/step - loss: 0.0940 - acc: 0.9616 - precision: 0.9642 - recall: 0.9601\n",
            "Epoch 192/300\n",
            "11/11 [==============================] - 2s 145ms/step - loss: 0.0975 - acc: 0.9610 - precision: 0.9646 - recall: 0.9584\n",
            "Epoch 193/300\n",
            "11/11 [==============================] - 2s 145ms/step - loss: 0.0898 - acc: 0.9664 - precision: 0.9677 - recall: 0.9660\n",
            "Epoch 194/300\n",
            "11/11 [==============================] - 2s 146ms/step - loss: 0.0921 - acc: 0.9642 - precision: 0.9678 - recall: 0.9614\n",
            "Epoch 195/300\n",
            "11/11 [==============================] - 2s 145ms/step - loss: 0.0944 - acc: 0.9625 - precision: 0.9658 - recall: 0.9601\n",
            "Epoch 196/300\n",
            "11/11 [==============================] - 2s 146ms/step - loss: 0.0955 - acc: 0.9623 - precision: 0.9651 - recall: 0.9605\n",
            "Epoch 197/300\n",
            "11/11 [==============================] - 2s 146ms/step - loss: 0.0873 - acc: 0.9657 - precision: 0.9704 - recall: 0.9619\n",
            "Epoch 198/300\n",
            "11/11 [==============================] - 2s 147ms/step - loss: 0.0904 - acc: 0.9657 - precision: 0.9678 - recall: 0.9645\n",
            "Epoch 199/300\n",
            "11/11 [==============================] - 2s 146ms/step - loss: 0.0925 - acc: 0.9633 - precision: 0.9660 - recall: 0.9616\n",
            "Epoch 200/300\n",
            "11/11 [==============================] - 2s 146ms/step - loss: 0.0882 - acc: 0.9653 - precision: 0.9700 - recall: 0.9613\n",
            "Epoch 201/300\n",
            "11/11 [==============================] - 2s 146ms/step - loss: 0.0915 - acc: 0.9634 - precision: 0.9650 - recall: 0.9628\n",
            "Epoch 202/300\n",
            "11/11 [==============================] - 2s 146ms/step - loss: 0.0878 - acc: 0.9633 - precision: 0.9682 - recall: 0.9593\n",
            "Epoch 203/300\n",
            "11/11 [==============================] - 2s 147ms/step - loss: 0.0833 - acc: 0.9679 - precision: 0.9688 - recall: 0.9680\n",
            "Epoch 204/300\n",
            "11/11 [==============================] - 2s 146ms/step - loss: 0.0863 - acc: 0.9652 - precision: 0.9666 - recall: 0.9648\n",
            "Epoch 205/300\n",
            "11/11 [==============================] - 2s 146ms/step - loss: 0.0886 - acc: 0.9653 - precision: 0.9702 - recall: 0.9613\n",
            "Epoch 206/300\n",
            "11/11 [==============================] - 2s 146ms/step - loss: 0.0889 - acc: 0.9639 - precision: 0.9652 - recall: 0.9636\n",
            "Epoch 207/300\n",
            "11/11 [==============================] - 2s 147ms/step - loss: 0.0765 - acc: 0.9702 - precision: 0.9722 - recall: 0.9691\n",
            "Epoch 208/300\n",
            "11/11 [==============================] - 2s 148ms/step - loss: 0.0883 - acc: 0.9644 - precision: 0.9670 - recall: 0.9628\n",
            "Epoch 209/300\n",
            "11/11 [==============================] - 2s 146ms/step - loss: 0.0863 - acc: 0.9664 - precision: 0.9675 - recall: 0.9662\n",
            "Epoch 210/300\n",
            "11/11 [==============================] - 2s 147ms/step - loss: 0.0761 - acc: 0.9701 - precision: 0.9722 - recall: 0.9688\n",
            "Epoch 211/300\n",
            "11/11 [==============================] - 2s 147ms/step - loss: 0.0850 - acc: 0.9656 - precision: 0.9683 - recall: 0.9637\n",
            "Epoch 212/300\n",
            "11/11 [==============================] - 2s 145ms/step - loss: 0.0815 - acc: 0.9678 - precision: 0.9709 - recall: 0.9654\n",
            "Epoch 213/300\n",
            "11/11 [==============================] - 2s 145ms/step - loss: 0.0840 - acc: 0.9653 - precision: 0.9687 - recall: 0.9627\n",
            "Epoch 214/300\n",
            "11/11 [==============================] - 2s 146ms/step - loss: 0.0781 - acc: 0.9689 - precision: 0.9718 - recall: 0.9668\n",
            "Epoch 215/300\n",
            "11/11 [==============================] - 2s 146ms/step - loss: 0.0800 - acc: 0.9694 - precision: 0.9717 - recall: 0.9679\n",
            "Epoch 216/300\n",
            "11/11 [==============================] - 2s 146ms/step - loss: 0.0766 - acc: 0.9707 - precision: 0.9743 - recall: 0.9679\n",
            "Epoch 217/300\n",
            "11/11 [==============================] - 2s 146ms/step - loss: 0.0750 - acc: 0.9704 - precision: 0.9708 - recall: 0.9709\n",
            "Epoch 218/300\n",
            "11/11 [==============================] - 2s 146ms/step - loss: 0.0768 - acc: 0.9690 - precision: 0.9716 - recall: 0.9672\n",
            "Epoch 219/300\n",
            "11/11 [==============================] - 2s 146ms/step - loss: 0.0775 - acc: 0.9705 - precision: 0.9716 - recall: 0.9702\n",
            "Epoch 220/300\n",
            "11/11 [==============================] - 2s 146ms/step - loss: 0.0743 - acc: 0.9706 - precision: 0.9740 - recall: 0.9679\n",
            "Epoch 221/300\n",
            "11/11 [==============================] - 2s 146ms/step - loss: 0.0788 - acc: 0.9680 - precision: 0.9709 - recall: 0.9659\n",
            "Epoch 222/300\n",
            "11/11 [==============================] - 2s 146ms/step - loss: 0.0785 - acc: 0.9699 - precision: 0.9739 - recall: 0.9665\n",
            "Epoch 223/300\n",
            "11/11 [==============================] - 2s 145ms/step - loss: 0.0730 - acc: 0.9718 - precision: 0.9733 - recall: 0.9711\n",
            "Epoch 224/300\n",
            "11/11 [==============================] - 2s 145ms/step - loss: 0.0732 - acc: 0.9706 - precision: 0.9709 - recall: 0.9711\n",
            "Epoch 225/300\n",
            "11/11 [==============================] - 2s 146ms/step - loss: 0.0740 - acc: 0.9706 - precision: 0.9728 - recall: 0.9691\n",
            "Epoch 226/300\n",
            "11/11 [==============================] - 2s 146ms/step - loss: 0.0717 - acc: 0.9733 - precision: 0.9775 - recall: 0.9699\n",
            "Epoch 227/300\n",
            "11/11 [==============================] - 2s 145ms/step - loss: 0.0725 - acc: 0.9707 - precision: 0.9717 - recall: 0.9706\n",
            "Epoch 228/300\n",
            "11/11 [==============================] - 2s 146ms/step - loss: 0.0740 - acc: 0.9707 - precision: 0.9730 - recall: 0.9692\n",
            "Epoch 229/300\n",
            "11/11 [==============================] - 2s 146ms/step - loss: 0.0742 - acc: 0.9709 - precision: 0.9740 - recall: 0.9686\n",
            "Epoch 230/300\n",
            "11/11 [==============================] - 2s 146ms/step - loss: 0.0715 - acc: 0.9724 - precision: 0.9748 - recall: 0.9708\n",
            "Epoch 231/300\n",
            "11/11 [==============================] - 2s 147ms/step - loss: 0.0726 - acc: 0.9704 - precision: 0.9722 - recall: 0.9694\n",
            "Epoch 232/300\n",
            "11/11 [==============================] - 2s 146ms/step - loss: 0.0672 - acc: 0.9744 - precision: 0.9755 - recall: 0.9740\n",
            "Epoch 233/300\n",
            "11/11 [==============================] - 2s 147ms/step - loss: 0.0756 - acc: 0.9697 - precision: 0.9706 - recall: 0.9697\n",
            "Epoch 234/300\n",
            "11/11 [==============================] - 2s 146ms/step - loss: 0.0692 - acc: 0.9732 - precision: 0.9753 - recall: 0.9718\n",
            "Epoch 235/300\n",
            "11/11 [==============================] - 2s 146ms/step - loss: 0.0750 - acc: 0.9693 - precision: 0.9717 - recall: 0.9677\n",
            "Epoch 236/300\n",
            "11/11 [==============================] - 2s 146ms/step - loss: 0.0658 - acc: 0.9739 - precision: 0.9753 - recall: 0.9732\n",
            "Epoch 237/300\n",
            "11/11 [==============================] - 2s 145ms/step - loss: 0.0683 - acc: 0.9740 - precision: 0.9762 - recall: 0.9725\n",
            "Epoch 238/300\n",
            "11/11 [==============================] - 2s 146ms/step - loss: 0.0701 - acc: 0.9733 - precision: 0.9750 - recall: 0.9723\n",
            "Epoch 239/300\n",
            "11/11 [==============================] - 2s 146ms/step - loss: 0.0644 - acc: 0.9758 - precision: 0.9770 - recall: 0.9752\n",
            "Epoch 240/300\n",
            "11/11 [==============================] - 2s 146ms/step - loss: 0.0695 - acc: 0.9722 - precision: 0.9754 - recall: 0.9697\n",
            "Epoch 241/300\n",
            "11/11 [==============================] - 2s 145ms/step - loss: 0.0665 - acc: 0.9740 - precision: 0.9750 - recall: 0.9737\n",
            "Epoch 242/300\n",
            "11/11 [==============================] - 2s 146ms/step - loss: 0.0666 - acc: 0.9747 - precision: 0.9770 - recall: 0.9731\n",
            "Epoch 243/300\n",
            "11/11 [==============================] - 2s 146ms/step - loss: 0.0674 - acc: 0.9745 - precision: 0.9769 - recall: 0.9728\n",
            "Epoch 244/300\n",
            "11/11 [==============================] - 2s 147ms/step - loss: 0.0671 - acc: 0.9727 - precision: 0.9752 - recall: 0.9709\n",
            "Epoch 245/300\n",
            "11/11 [==============================] - 2s 147ms/step - loss: 0.0659 - acc: 0.9742 - precision: 0.9772 - recall: 0.9718\n",
            "Epoch 246/300\n",
            "11/11 [==============================] - 2s 145ms/step - loss: 0.0666 - acc: 0.9739 - precision: 0.9760 - recall: 0.9725\n",
            "Epoch 247/300\n",
            "11/11 [==============================] - 2s 146ms/step - loss: 0.0649 - acc: 0.9752 - precision: 0.9757 - recall: 0.9755\n",
            "Epoch 248/300\n",
            "11/11 [==============================] - 2s 146ms/step - loss: 0.0663 - acc: 0.9761 - precision: 0.9782 - recall: 0.9747\n",
            "Epoch 249/300\n",
            "11/11 [==============================] - 2s 145ms/step - loss: 0.0679 - acc: 0.9740 - precision: 0.9757 - recall: 0.9729\n",
            "Epoch 250/300\n",
            "11/11 [==============================] - 2s 145ms/step - loss: 0.0626 - acc: 0.9768 - precision: 0.9795 - recall: 0.9746\n",
            "Epoch 251/300\n",
            "11/11 [==============================] - 2s 145ms/step - loss: 0.0680 - acc: 0.9742 - precision: 0.9762 - recall: 0.9729\n",
            "Epoch 252/300\n",
            "11/11 [==============================] - 2s 145ms/step - loss: 0.0651 - acc: 0.9744 - precision: 0.9746 - recall: 0.9751\n",
            "Epoch 253/300\n",
            "11/11 [==============================] - 2s 145ms/step - loss: 0.0613 - acc: 0.9760 - precision: 0.9775 - recall: 0.9752\n",
            "Epoch 254/300\n",
            "11/11 [==============================] - 2s 146ms/step - loss: 0.0632 - acc: 0.9758 - precision: 0.9792 - recall: 0.9729\n",
            "Epoch 255/300\n",
            "11/11 [==============================] - 2s 146ms/step - loss: 0.0628 - acc: 0.9760 - precision: 0.9769 - recall: 0.9758\n",
            "Epoch 256/300\n",
            "11/11 [==============================] - 2s 146ms/step - loss: 0.0567 - acc: 0.9780 - precision: 0.9806 - recall: 0.9760\n",
            "Epoch 257/300\n",
            "11/11 [==============================] - 2s 145ms/step - loss: 0.0617 - acc: 0.9758 - precision: 0.9773 - recall: 0.9749\n",
            "Epoch 258/300\n",
            "11/11 [==============================] - 2s 145ms/step - loss: 0.0602 - acc: 0.9772 - precision: 0.9781 - recall: 0.9770\n",
            "Epoch 259/300\n",
            "11/11 [==============================] - 2s 146ms/step - loss: 0.0646 - acc: 0.9759 - precision: 0.9772 - recall: 0.9754\n",
            "Epoch 260/300\n",
            "11/11 [==============================] - 2s 146ms/step - loss: 0.0589 - acc: 0.9766 - precision: 0.9807 - recall: 0.9731\n",
            "Epoch 261/300\n",
            "11/11 [==============================] - 2s 146ms/step - loss: 0.0570 - acc: 0.9793 - precision: 0.9779 - recall: 0.9813\n",
            "Epoch 262/300\n",
            "11/11 [==============================] - 2s 146ms/step - loss: 0.0609 - acc: 0.9760 - precision: 0.9794 - recall: 0.9732\n",
            "Epoch 263/300\n",
            "11/11 [==============================] - 2s 144ms/step - loss: 0.0576 - acc: 0.9763 - precision: 0.9763 - recall: 0.9770\n",
            "Epoch 264/300\n",
            "11/11 [==============================] - 2s 145ms/step - loss: 0.0614 - acc: 0.9764 - precision: 0.9778 - recall: 0.9757\n",
            "Epoch 265/300\n",
            "11/11 [==============================] - 2s 145ms/step - loss: 0.0552 - acc: 0.9796 - precision: 0.9817 - recall: 0.9780\n",
            "Epoch 266/300\n",
            "11/11 [==============================] - 2s 145ms/step - loss: 0.0578 - acc: 0.9777 - precision: 0.9791 - recall: 0.9769\n",
            "Epoch 267/300\n",
            "11/11 [==============================] - 2s 146ms/step - loss: 0.0569 - acc: 0.9783 - precision: 0.9808 - recall: 0.9764\n",
            "Epoch 268/300\n",
            "11/11 [==============================] - 2s 147ms/step - loss: 0.0565 - acc: 0.9785 - precision: 0.9790 - recall: 0.9786\n",
            "Epoch 269/300\n",
            "11/11 [==============================] - 2s 146ms/step - loss: 0.0568 - acc: 0.9787 - precision: 0.9826 - recall: 0.9754\n",
            "Epoch 270/300\n",
            "11/11 [==============================] - 2s 146ms/step - loss: 0.0569 - acc: 0.9779 - precision: 0.9799 - recall: 0.9766\n",
            "Epoch 271/300\n",
            "11/11 [==============================] - 2s 146ms/step - loss: 0.0549 - acc: 0.9780 - precision: 0.9790 - recall: 0.9777\n",
            "Epoch 272/300\n",
            "11/11 [==============================] - 2s 146ms/step - loss: 0.0542 - acc: 0.9789 - precision: 0.9808 - recall: 0.9777\n",
            "Epoch 273/300\n",
            "11/11 [==============================] - 2s 146ms/step - loss: 0.0565 - acc: 0.9789 - precision: 0.9804 - recall: 0.9780\n",
            "Epoch 274/300\n",
            "11/11 [==============================] - 2s 146ms/step - loss: 0.0539 - acc: 0.9787 - precision: 0.9820 - recall: 0.9760\n",
            "Epoch 275/300\n",
            "11/11 [==============================] - 2s 145ms/step - loss: 0.0534 - acc: 0.9782 - precision: 0.9793 - recall: 0.9778\n",
            "Epoch 276/300\n",
            "11/11 [==============================] - 2s 146ms/step - loss: 0.0513 - acc: 0.9804 - precision: 0.9822 - recall: 0.9792\n",
            "Epoch 277/300\n",
            "11/11 [==============================] - 2s 147ms/step - loss: 0.0525 - acc: 0.9802 - precision: 0.9819 - recall: 0.9790\n",
            "Epoch 278/300\n",
            "11/11 [==============================] - 2s 146ms/step - loss: 0.0547 - acc: 0.9793 - precision: 0.9807 - recall: 0.9784\n",
            "Epoch 279/300\n",
            "11/11 [==============================] - 2s 146ms/step - loss: 0.0555 - acc: 0.9797 - precision: 0.9808 - recall: 0.9792\n",
            "Epoch 280/300\n",
            "11/11 [==============================] - 2s 146ms/step - loss: 0.0477 - acc: 0.9826 - precision: 0.9843 - recall: 0.9813\n",
            "Epoch 281/300\n",
            "11/11 [==============================] - 2s 145ms/step - loss: 0.0543 - acc: 0.9796 - precision: 0.9825 - recall: 0.9773\n",
            "Epoch 282/300\n",
            "11/11 [==============================] - 2s 146ms/step - loss: 0.0513 - acc: 0.9819 - precision: 0.9842 - recall: 0.9801\n",
            "Epoch 283/300\n",
            "11/11 [==============================] - 2s 146ms/step - loss: 0.0553 - acc: 0.9776 - precision: 0.9793 - recall: 0.9766\n",
            "Epoch 284/300\n",
            "11/11 [==============================] - 2s 146ms/step - loss: 0.0517 - acc: 0.9795 - precision: 0.9816 - recall: 0.9780\n",
            "Epoch 285/300\n",
            "11/11 [==============================] - 2s 146ms/step - loss: 0.0482 - acc: 0.9820 - precision: 0.9830 - recall: 0.9815\n",
            "Epoch 286/300\n",
            "11/11 [==============================] - 2s 145ms/step - loss: 0.0474 - acc: 0.9817 - precision: 0.9822 - recall: 0.9818\n",
            "Epoch 287/300\n",
            "11/11 [==============================] - 2s 145ms/step - loss: 0.0527 - acc: 0.9799 - precision: 0.9819 - recall: 0.9784\n",
            "Epoch 288/300\n",
            "11/11 [==============================] - 2s 145ms/step - loss: 0.0501 - acc: 0.9802 - precision: 0.9829 - recall: 0.9780\n",
            "Epoch 289/300\n",
            "11/11 [==============================] - 2s 146ms/step - loss: 0.0461 - acc: 0.9831 - precision: 0.9827 - recall: 0.9839\n",
            "Epoch 290/300\n",
            "11/11 [==============================] - 2s 145ms/step - loss: 0.0474 - acc: 0.9823 - precision: 0.9833 - recall: 0.9818\n",
            "Epoch 291/300\n",
            "11/11 [==============================] - 2s 145ms/step - loss: 0.0502 - acc: 0.9812 - precision: 0.9813 - recall: 0.9816\n",
            "Epoch 292/300\n",
            "11/11 [==============================] - 2s 146ms/step - loss: 0.0478 - acc: 0.9824 - precision: 0.9843 - recall: 0.9809\n",
            "Epoch 293/300\n",
            "11/11 [==============================] - 2s 145ms/step - loss: 0.0463 - acc: 0.9825 - precision: 0.9834 - recall: 0.9821\n",
            "Epoch 294/300\n",
            "11/11 [==============================] - 2s 145ms/step - loss: 0.0511 - acc: 0.9800 - precision: 0.9820 - recall: 0.9786\n",
            "Epoch 295/300\n",
            "11/11 [==============================] - 2s 144ms/step - loss: 0.0479 - acc: 0.9826 - precision: 0.9832 - recall: 0.9826\n",
            "Epoch 296/300\n",
            "11/11 [==============================] - 2s 144ms/step - loss: 0.0446 - acc: 0.9835 - precision: 0.9851 - recall: 0.9824\n",
            "Epoch 297/300\n",
            "11/11 [==============================] - 2s 145ms/step - loss: 0.0454 - acc: 0.9822 - precision: 0.9842 - recall: 0.9807\n",
            "Epoch 298/300\n",
            "11/11 [==============================] - 2s 144ms/step - loss: 0.0477 - acc: 0.9823 - precision: 0.9842 - recall: 0.9809\n",
            "Epoch 299/300\n",
            "11/11 [==============================] - 2s 145ms/step - loss: 0.0465 - acc: 0.9831 - precision: 0.9826 - recall: 0.9842\n",
            "Epoch 300/300\n",
            "11/11 [==============================] - 2s 145ms/step - loss: 0.0500 - acc: 0.9814 - precision: 0.9833 - recall: 0.9800\n"
          ],
          "name": "stdout"
        },
        {
          "output_type": "execute_result",
          "data": {
            "text/plain": [
              "<keras.callbacks.History at 0x7f66834a6240>"
            ]
          },
          "metadata": {
            "tags": []
          },
          "execution_count": 37
        }
      ]
    },
    {
      "cell_type": "code",
      "metadata": {
        "id": "3wDXMNf2zgd5",
        "colab_type": "code",
        "outputId": "10d66df4-0cdf-4135-97cc-d336ef90f6fd",
        "colab": {
          "base_uri": "https://localhost:8080/",
          "height": 34
        }
      },
      "source": [
        "score = model.evaluate(X_test,y_test,verbose=0)\n",
        "score"
      ],
      "execution_count": 0,
      "outputs": [
        {
          "output_type": "execute_result",
          "data": {
            "text/plain": [
              "[0.185416333629893, 0.9153846153846154, 0.9649122790089258, 0.8593749986572267]"
            ]
          },
          "metadata": {
            "tags": []
          },
          "execution_count": 38
        }
      ]
    },
    {
      "cell_type": "code",
      "metadata": {
        "id": "LrWXe4NOzmYv",
        "colab_type": "code",
        "outputId": "d8fd1f0c-5956-4c82-99f9-39d91d80ad0f",
        "colab": {
          "base_uri": "https://localhost:8080/",
          "height": 34
        }
      },
      "source": [
        "y_pred = model.predict_proba(X_test)\n",
        "roc_auc_score(y_test, y_pred)"
      ],
      "execution_count": 0,
      "outputs": [
        {
          "output_type": "execute_result",
          "data": {
            "text/plain": [
              "0.9857954545454546"
            ]
          },
          "metadata": {
            "tags": []
          },
          "execution_count": 39
        }
      ]
    },
    {
      "cell_type": "markdown",
      "metadata": {
        "id": "iquoDxPyscPR",
        "colab_type": "text"
      },
      "source": [
        "**Result for 300 epochs**\n",
        "\n",
        "**1.Accuracy -91.5%**\n",
        "\n",
        "**2.Precision -0.96**\n",
        "\n",
        "**3.Recall -0.85**\n",
        "\n",
        "**4. AUC score -0.98**\n",
        "\n",
        "\n",
        "The model stops learning after 300 epochs\n",
        "\n"
      ]
    },
    {
      "cell_type": "markdown",
      "metadata": {
        "id": "0rziaoBkmq2I",
        "colab_type": "text"
      },
      "source": [
        "### **Visualizing accuracy and loss**\n"
      ]
    },
    {
      "cell_type": "code",
      "metadata": {
        "id": "ifHI_ja5zxop",
        "colab_type": "code",
        "outputId": "2150ead4-cd9c-4914-8193-91910df6a301",
        "colab": {
          "base_uri": "https://localhost:8080/",
          "height": 499
        }
      },
      "source": [
        "acc = history.history['acc']\n",
        "loss = history.history['loss']\n",
        "\n",
        "plt.figure(figsize=(8, 8))\n",
        "plt.subplot(2, 1, 1)\n",
        "plt.plot(acc, label='Training Accuracy')\n",
        "plt.legend(loc='lower right')\n",
        "plt.ylabel('Accuracy')\n",
        "plt.ylim([min(plt.ylim()),1])\n",
        "plt.title('Training Accuracy')\n",
        "\n",
        "plt.subplot(2, 1, 2)\n",
        "plt.plot(loss, label='Training Loss')\n",
        "plt.legend(loc='upper right')\n",
        "plt.ylabel('Cross Entropy')\n",
        "plt.ylim([0,max(plt.ylim())])\n",
        "plt.title('Training Loss')\n",
        "plt.show()"
      ],
      "execution_count": 0,
      "outputs": [
        {
          "output_type": "display_data",
          "data": {
            "image/png": "[encoded data removed]",
            "text/plain": [
              "<Figure size 576x576 with 2 Axes>"
            ]
          },
          "metadata": {
            "tags": []
          }
        }
      ]
    },
    {
      "cell_type": "markdown",
      "metadata": {
        "id": "F2keg8LDnBFu",
        "colab_type": "text"
      },
      "source": [
        "### Saving model into \".json\" format"
      ]
    },
    {
      "cell_type": "code",
      "metadata": {
        "id": "gDJ_sV-sAvjo",
        "colab_type": "code",
        "colab": {}
      },
      "source": [
        "with open(\"model.json\", \"w\") as file:\n",
        "    file.write(model.to_json())\n",
        "model.save_weights(\"weights.h5\")"
      ],
      "execution_count": 0,
      "outputs": []
    },
    {
      "cell_type": "markdown",
      "metadata": {
        "id": "n-Kn7lu45Dig",
        "colab_type": "text"
      },
      "source": [
        "### Turning Keras model into Tensorflow since Movidius NCS compiles Tensorflow or Caffe models only"
      ]
    },
    {
      "cell_type": "code",
      "metadata": {
        "id": "pCGF7y9jBPco",
        "colab_type": "code",
        "colab": {}
      },
      "source": [
        "model_file = \"model.json\"\n",
        "weights_file = \"weights.h5\"\n",
        "\n",
        "with open(model_file, \"r\") as file:\n",
        "    config = file.read()\n",
        "K.set_learning_phase(0)\n",
        "model = model_from_json(config)\n",
        "model.load_weights(weights_file)\n",
        "\n",
        "saver = tf.train.Saver()\n",
        "sess = K.get_session()\n",
        "saver.save(sess, \"./TF_Model/tf_model\")\n",
        "\n",
        "fw = tf.summary.FileWriter('logs', sess.graph)\n",
        "fw.close()"
      ],
      "execution_count": 0,
      "outputs": []
    },
    {
      "cell_type": "code",
      "metadata": {
        "id": "jjcrpKbvYL0q",
        "colab_type": "code",
        "colab": {}
      },
      "source": [
        "keras.models.save_model(model,weights_file)"
      ],
      "execution_count": 0,
      "outputs": []
    },
    {
      "cell_type": "markdown",
      "metadata": {
        "id": "1XAOByainK1k",
        "colab_type": "text"
      },
      "source": [
        "### Converting the model into tensorflow lite so that it can run on embedded systems "
      ]
    },
    {
      "cell_type": "code",
      "metadata": {
        "id": "AuU_ZRlDmD7q",
        "colab_type": "code",
        "outputId": "96cb154f-175a-4a3d-9b0b-0b3b8a8aa01a",
        "colab": {
          "base_uri": "https://localhost:8080/",
          "height": 289
        }
      },
      "source": [
        "converter = tf.lite.TocoConverter.from_keras_model_file(weights_file)\n",
        "tflite_model = converter.convert()"
      ],
      "execution_count": 0,
      "outputs": [
        {
          "output_type": "stream",
          "text": [
            "WARNING:tensorflow:From <ipython-input-44-b7fadcd17f69>:1: TocoConverter.from_keras_model_file (from tensorflow.lite.python.lite) is deprecated and will be removed in a future version.\n",
            "Instructions for updating:\n",
            "Use `lite.TFLiteConverter.from_keras_model_file` instead.\n",
            "WARNING:tensorflow:From /tensorflow-1.15.0/python3.6/tensorflow_core/python/ops/resource_variable_ops.py:1630: calling BaseResourceVariable.__init__ (from tensorflow.python.ops.resource_variable_ops) with constraint is deprecated and will be removed in a future version.\n",
            "Instructions for updating:\n",
            "If using Keras pass *_constraint arguments to layers.\n",
            "WARNING:tensorflow:No training configuration found in save file: the model was *not* compiled. Compile it manually.\n",
            "WARNING:tensorflow:From /tensorflow-1.15.0/python3.6/tensorflow_core/lite/python/util.py:249: convert_variables_to_constants (from tensorflow.python.framework.graph_util_impl) is deprecated and will be removed in a future version.\n",
            "Instructions for updating:\n",
            "Use `tf.compat.v1.graph_util.convert_variables_to_constants`\n",
            "WARNING:tensorflow:From /tensorflow-1.15.0/python3.6/tensorflow_core/python/framework/graph_util_impl.py:277: extract_sub_graph (from tensorflow.python.framework.graph_util_impl) is deprecated and will be removed in a future version.\n",
            "Instructions for updating:\n",
            "Use `tf.compat.v1.graph_util.extract_sub_graph`\n",
            "INFO:tensorflow:Froze 8 variables.\n",
            "INFO:tensorflow:Converted 8 variables to const ops.\n"
          ],
          "name": "stdout"
        }
      ]
    },
    {
      "cell_type": "code",
      "metadata": {
        "id": "BmN2Uje1xPSj",
        "colab_type": "code",
        "outputId": "1ee9a532-79f2-4273-8b17-24914c7a8024",
        "colab": {
          "base_uri": "https://localhost:8080/",
          "height": 34
        }
      },
      "source": [
        "open(\"weights.tflite\",\"wb\").write(tflite_model)"
      ],
      "execution_count": 0,
      "outputs": [
        {
          "output_type": "execute_result",
          "data": {
            "text/plain": [
              "429344"
            ]
          },
          "metadata": {
            "tags": []
          },
          "execution_count": 45
        }
      ]
    },
    {
      "cell_type": "code",
      "metadata": {
        "id": "vZYjIkBX1YpS",
        "colab_type": "code",
        "colab": {}
      },
      "source": [
        "tflite_models_dir = Path(\"weights.tflite\")"
      ],
      "execution_count": 0,
      "outputs": []
    },
    {
      "cell_type": "code",
      "metadata": {
        "id": "Q2ADgVUnVxxc",
        "colab_type": "code",
        "outputId": "ccba9503-300f-48f8-e862-be9eb8150635",
        "colab": {
          "base_uri": "https://localhost:8080/",
          "height": 34
        }
      },
      "source": [
        "tflite_models_dir.write_bytes(tflite_model)"
      ],
      "execution_count": 0,
      "outputs": [
        {
          "output_type": "execute_result",
          "data": {
            "text/plain": [
              "429344"
            ]
          },
          "metadata": {
            "tags": []
          },
          "execution_count": 47
        }
      ]
    },
    {
      "cell_type": "code",
      "metadata": {
        "id": "qJEovBbtE2qX",
        "colab_type": "code",
        "colab": {}
      },
      "source": [
        "interpreter = tf.lite.Interpreter(model_path=str(tflite_models_dir))\n",
        "interpreter.allocate_tensors()"
      ],
      "execution_count": 0,
      "outputs": []
    },
    {
      "cell_type": "markdown",
      "metadata": {
        "id": "BG_FRbYXnoyF",
        "colab_type": "text"
      },
      "source": [
        "### Converting the model into 8 bit quantised tensorflow lite version"
      ]
    },
    {
      "cell_type": "code",
      "metadata": {
        "id": "or0d87We4QBs",
        "colab_type": "code",
        "colab": {}
      },
      "source": [
        "tf.logging.set_verbosity(tf.logging.INFO)\n",
        "converter.optimizations = [tf.lite.Optimize.DEFAULT]\n",
        "#converter.post_training_quantize = True"
      ],
      "execution_count": 0,
      "outputs": []
    },
    {
      "cell_type": "code",
      "metadata": {
        "id": "D-wb2k_s4XVF",
        "colab_type": "code",
        "colab": {}
      },
      "source": [
        "tflite_quant_model = converter.convert()"
      ],
      "execution_count": 0,
      "outputs": []
    },
    {
      "cell_type": "code",
      "metadata": {
        "id": "HeHhlbQkBcGG",
        "colab_type": "code",
        "outputId": "c7c74d36-18e0-44b4-aef2-67f2f4caaa68",
        "colab": {
          "base_uri": "https://localhost:8080/",
          "height": 34
        }
      },
      "source": [
        "open(\"quant_weights.tflite\",\"wb\").write(tflite_quant_model)"
      ],
      "execution_count": 0,
      "outputs": [
        {
          "output_type": "execute_result",
          "data": {
            "text/plain": [
              "109448"
            ]
          },
          "metadata": {
            "tags": []
          },
          "execution_count": 51
        }
      ]
    },
    {
      "cell_type": "code",
      "metadata": {
        "id": "bEPtUFDwbDbZ",
        "colab_type": "code",
        "colab": {}
      },
      "source": [
        "quant_tflite_models_dir = Path(\"quant_weights.tflite\")"
      ],
      "execution_count": 0,
      "outputs": []
    },
    {
      "cell_type": "code",
      "metadata": {
        "id": "9YC57ekg42eM",
        "colab_type": "code",
        "outputId": "648621c4-d1c5-4bff-de67-7c54403a8499",
        "colab": {
          "base_uri": "https://localhost:8080/",
          "height": 34
        }
      },
      "source": [
        "quant_tflite_models_dir.write_bytes(tflite_quant_model)"
      ],
      "execution_count": 0,
      "outputs": [
        {
          "output_type": "execute_result",
          "data": {
            "text/plain": [
              "109448"
            ]
          },
          "metadata": {
            "tags": []
          },
          "execution_count": 53
        }
      ]
    },
    {
      "cell_type": "markdown",
      "metadata": {
        "id": "kEnLxAXMsbNF",
        "colab_type": "text"
      },
      "source": [
        "We can see that the quantised version consumes approximately 1/4th of the memory consumed by non-quantised version"
      ]
    },
    {
      "cell_type": "code",
      "metadata": {
        "id": "IOlzju98FK3Q",
        "colab_type": "code",
        "colab": {}
      },
      "source": [
        "interpreter_quant = tf.lite.Interpreter(model_path=str(tflite_models_dir))\n",
        "interpreter_quant.allocate_tensors()"
      ],
      "execution_count": 0,
      "outputs": []
    },
    {
      "cell_type": "code",
      "metadata": {
        "id": "hlQEth87dwvP",
        "colab_type": "code",
        "colab": {}
      },
      "source": [
        "#To download the files:\n",
        "#files.download('weights.h5')\n",
        "#files.download('weights.tflite')\n",
        "#files.download('quant_weights.tflite')\n",
        "\n"
      ],
      "execution_count": 0,
      "outputs": []
    },
    {
      "cell_type": "markdown",
      "metadata": {
        "id": "tbq9z8tBoB4o",
        "colab_type": "text"
      },
      "source": [
        "### The following two code snippets are to evaluate the tensorflow lite non-quantised and quantised versions."
      ]
    },
    {
      "cell_type": "code",
      "metadata": {
        "id": "-uH3KjHJDQB3",
        "colab_type": "code",
        "outputId": "96ea841d-36e7-4f59-85f6-8ae0cb2fc19b",
        "colab": {
          "base_uri": "https://localhost:8080/",
          "height": 34
        }
      },
      "source": [
        "# Get input and output tensors.\n",
        "input_details = interpreter.get_input_details()\n",
        "output_details = interpreter.get_output_details()\n",
        "\n",
        "# Test model on random input data.\n",
        "input_shape = input_details[0]['shape']\n",
        "# change the following line to feed into your own data.\n",
        "input_data = np.array(np.random.random_sample(input_shape), dtype=np.float32)\n",
        "#input_data = np.array(X_test)\n",
        "interpreter.set_tensor(input_details[0]['index'], input_data)\n",
        "\n",
        "interpreter.invoke()\n",
        "output_data = interpreter.get_tensor(output_details[0]['index'])\n",
        "print(output_data)"
      ],
      "execution_count": 0,
      "outputs": [
        {
          "output_type": "stream",
          "text": [
            "[[9.995455e-01 4.544313e-04]]\n"
          ],
          "name": "stdout"
        }
      ]
    },
    {
      "cell_type": "code",
      "metadata": {
        "id": "zRpvjktCPvoh",
        "colab_type": "code",
        "outputId": "6799beb6-6b26-4f8e-90f8-62a7db0ee495",
        "colab": {
          "base_uri": "https://localhost:8080/",
          "height": 34
        }
      },
      "source": [
        "# Get input and output tensors.\n",
        "input_details = interpreter_quant.get_input_details()\n",
        "output_details = interpreter_quant.get_output_details()\n",
        "\n",
        "# Test model on random input data.\n",
        "input_shape = input_details[0]['shape']\n",
        "# change the following line to feed into your own data.\n",
        "input_data = np.array(np.random.random_sample(input_shape), dtype=np.float32)\n",
        "#input_data = np.array(X_test[0])\n",
        "interpreter_quant.set_tensor(input_details[0]['index'], input_data)\n",
        "\n",
        "interpreter_quant.invoke()\n",
        "output_data = interpreter_quant.get_tensor(output_details[0]['index'])\n",
        "print(output_data)"
      ],
      "execution_count": 0,
      "outputs": [
        {
          "output_type": "stream",
          "text": [
            "[[9.9987125e-01 1.2867367e-04]]\n"
          ],
          "name": "stdout"
        }
      ]
    }
  ]
}
